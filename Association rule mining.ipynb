{
 "cells": [
  {
   "cell_type": "code",
   "execution_count": 1,
   "id": "09f013a9",
   "metadata": {},
   "outputs": [],
   "source": [
    "import matplotlib.pyplot as plt; plt.rcdefaults()\n",
    "import matplotlib.pyplot as plt\n",
    "import pandas as pd\n",
    "import numpy as np\n",
    "import warnings\n",
    "warnings.filterwarnings('ignore')"
   ]
  },
  {
   "cell_type": "code",
   "execution_count": 2,
   "id": "6330cbab",
   "metadata": {},
   "outputs": [],
   "source": [
    "df = pd.read_csv('C:/Users/antho/Downloads/Workshop-05-dataset.zip', sep='\\t',dtype=np.str)\n",
    "    "
   ]
  },
  {
   "cell_type": "code",
   "execution_count": 3,
   "id": "f27f3820",
   "metadata": {
    "scrolled": true
   },
   "outputs": [
    {
     "data": {
      "text/html": [
       "<div>\n",
       "<style scoped>\n",
       "    .dataframe tbody tr th:only-of-type {\n",
       "        vertical-align: middle;\n",
       "    }\n",
       "\n",
       "    .dataframe tbody tr th {\n",
       "        vertical-align: top;\n",
       "    }\n",
       "\n",
       "    .dataframe thead th {\n",
       "        text-align: right;\n",
       "    }\n",
       "</style>\n",
       "<table border=\"1\" class=\"dataframe\">\n",
       "  <thead>\n",
       "    <tr style=\"text-align: right;\">\n",
       "      <th></th>\n",
       "      <th>transaction_ID</th>\n",
       "      <th>Date</th>\n",
       "      <th>Time</th>\n",
       "      <th>item_0</th>\n",
       "      <th>item_1</th>\n",
       "      <th>item_2</th>\n",
       "      <th>item_3</th>\n",
       "      <th>item_4</th>\n",
       "      <th>item_5</th>\n",
       "      <th>item_6</th>\n",
       "      <th>...</th>\n",
       "      <th>item_31</th>\n",
       "      <th>item_32</th>\n",
       "      <th>item_33</th>\n",
       "      <th>item_34</th>\n",
       "      <th>item_35</th>\n",
       "      <th>item_36</th>\n",
       "      <th>item_37</th>\n",
       "      <th>item_38</th>\n",
       "      <th>item_39</th>\n",
       "      <th>item_40</th>\n",
       "    </tr>\n",
       "  </thead>\n",
       "  <tbody>\n",
       "    <tr>\n",
       "      <th>0</th>\n",
       "      <td>536365</td>\n",
       "      <td>01/12/2010</td>\n",
       "      <td>08:26</td>\n",
       "      <td>WHITE HANGING HEART T-LIGHT HOLDER</td>\n",
       "      <td>WHITE METAL LANTERN</td>\n",
       "      <td>CREAM CUPID HEARTS COAT HANGER</td>\n",
       "      <td>KNITTED UNION FLAG HOT WATER BOTTLE</td>\n",
       "      <td>RED WOOLLY HOTTIE WHITE HEART</td>\n",
       "      <td>SET 7 BABUSHKA NESTING BOXES</td>\n",
       "      <td>GLASS STAR FROSTED T-LIGHT HOLDER</td>\n",
       "      <td>...</td>\n",
       "      <td>NaN</td>\n",
       "      <td>NaN</td>\n",
       "      <td>NaN</td>\n",
       "      <td>NaN</td>\n",
       "      <td>NaN</td>\n",
       "      <td>NaN</td>\n",
       "      <td>NaN</td>\n",
       "      <td>NaN</td>\n",
       "      <td>NaN</td>\n",
       "      <td>NaN</td>\n",
       "    </tr>\n",
       "    <tr>\n",
       "      <th>1</th>\n",
       "      <td>536366</td>\n",
       "      <td>01/12/2010</td>\n",
       "      <td>08:28</td>\n",
       "      <td>HAND WARMER UNION JACK</td>\n",
       "      <td>HAND WARMER RED POLKA DOT</td>\n",
       "      <td>NaN</td>\n",
       "      <td>NaN</td>\n",
       "      <td>NaN</td>\n",
       "      <td>NaN</td>\n",
       "      <td>NaN</td>\n",
       "      <td>...</td>\n",
       "      <td>NaN</td>\n",
       "      <td>NaN</td>\n",
       "      <td>NaN</td>\n",
       "      <td>NaN</td>\n",
       "      <td>NaN</td>\n",
       "      <td>NaN</td>\n",
       "      <td>NaN</td>\n",
       "      <td>NaN</td>\n",
       "      <td>NaN</td>\n",
       "      <td>NaN</td>\n",
       "    </tr>\n",
       "    <tr>\n",
       "      <th>2</th>\n",
       "      <td>536367</td>\n",
       "      <td>01/12/2010</td>\n",
       "      <td>08:34</td>\n",
       "      <td>ASSORTED COLOUR BIRD ORNAMENT</td>\n",
       "      <td>POPPY'S PLAYHOUSE BEDROOM</td>\n",
       "      <td>POPPY'S PLAYHOUSE KITCHEN</td>\n",
       "      <td>FELTCRAFT PRINCESS CHARLOTTE DOLL</td>\n",
       "      <td>IVORY KNITTED MUG COSY</td>\n",
       "      <td>BOX OF 6 ASSORTED COLOUR TEASPOONS</td>\n",
       "      <td>BOX OF VINTAGE JIGSAW BLOCKS</td>\n",
       "      <td>...</td>\n",
       "      <td>NaN</td>\n",
       "      <td>NaN</td>\n",
       "      <td>NaN</td>\n",
       "      <td>NaN</td>\n",
       "      <td>NaN</td>\n",
       "      <td>NaN</td>\n",
       "      <td>NaN</td>\n",
       "      <td>NaN</td>\n",
       "      <td>NaN</td>\n",
       "      <td>NaN</td>\n",
       "    </tr>\n",
       "    <tr>\n",
       "      <th>3</th>\n",
       "      <td>536368</td>\n",
       "      <td>01/12/2010</td>\n",
       "      <td>08:34</td>\n",
       "      <td>JAM MAKING SET WITH JARS</td>\n",
       "      <td>RED COAT RACK PARIS FASHION</td>\n",
       "      <td>YELLOW COAT RACK PARIS FASHION</td>\n",
       "      <td>BLUE COAT RACK PARIS FASHION</td>\n",
       "      <td>NaN</td>\n",
       "      <td>NaN</td>\n",
       "      <td>NaN</td>\n",
       "      <td>...</td>\n",
       "      <td>NaN</td>\n",
       "      <td>NaN</td>\n",
       "      <td>NaN</td>\n",
       "      <td>NaN</td>\n",
       "      <td>NaN</td>\n",
       "      <td>NaN</td>\n",
       "      <td>NaN</td>\n",
       "      <td>NaN</td>\n",
       "      <td>NaN</td>\n",
       "      <td>NaN</td>\n",
       "    </tr>\n",
       "    <tr>\n",
       "      <th>4</th>\n",
       "      <td>536369</td>\n",
       "      <td>01/12/2010</td>\n",
       "      <td>08:35</td>\n",
       "      <td>BATH BUILDING BLOCK WORD</td>\n",
       "      <td>NaN</td>\n",
       "      <td>NaN</td>\n",
       "      <td>NaN</td>\n",
       "      <td>NaN</td>\n",
       "      <td>NaN</td>\n",
       "      <td>NaN</td>\n",
       "      <td>...</td>\n",
       "      <td>NaN</td>\n",
       "      <td>NaN</td>\n",
       "      <td>NaN</td>\n",
       "      <td>NaN</td>\n",
       "      <td>NaN</td>\n",
       "      <td>NaN</td>\n",
       "      <td>NaN</td>\n",
       "      <td>NaN</td>\n",
       "      <td>NaN</td>\n",
       "      <td>NaN</td>\n",
       "    </tr>\n",
       "  </tbody>\n",
       "</table>\n",
       "<p>5 rows × 44 columns</p>\n",
       "</div>"
      ],
      "text/plain": [
       "  transaction_ID        Date   Time                              item_0  \\\n",
       "0         536365  01/12/2010  08:26  WHITE HANGING HEART T-LIGHT HOLDER   \n",
       "1         536366  01/12/2010  08:28              HAND WARMER UNION JACK   \n",
       "2         536367  01/12/2010  08:34       ASSORTED COLOUR BIRD ORNAMENT   \n",
       "3         536368  01/12/2010  08:34            JAM MAKING SET WITH JARS   \n",
       "4         536369  01/12/2010  08:35            BATH BUILDING BLOCK WORD   \n",
       "\n",
       "                        item_1                          item_2  \\\n",
       "0          WHITE METAL LANTERN  CREAM CUPID HEARTS COAT HANGER   \n",
       "1    HAND WARMER RED POLKA DOT                             NaN   \n",
       "2    POPPY'S PLAYHOUSE BEDROOM       POPPY'S PLAYHOUSE KITCHEN   \n",
       "3  RED COAT RACK PARIS FASHION  YELLOW COAT RACK PARIS FASHION   \n",
       "4                          NaN                             NaN   \n",
       "\n",
       "                                item_3                         item_4  \\\n",
       "0  KNITTED UNION FLAG HOT WATER BOTTLE  RED WOOLLY HOTTIE WHITE HEART   \n",
       "1                                  NaN                            NaN   \n",
       "2    FELTCRAFT PRINCESS CHARLOTTE DOLL         IVORY KNITTED MUG COSY   \n",
       "3         BLUE COAT RACK PARIS FASHION                            NaN   \n",
       "4                                  NaN                            NaN   \n",
       "\n",
       "                               item_5                             item_6  ...  \\\n",
       "0        SET 7 BABUSHKA NESTING BOXES  GLASS STAR FROSTED T-LIGHT HOLDER  ...   \n",
       "1                                 NaN                                NaN  ...   \n",
       "2  BOX OF 6 ASSORTED COLOUR TEASPOONS       BOX OF VINTAGE JIGSAW BLOCKS  ...   \n",
       "3                                 NaN                                NaN  ...   \n",
       "4                                 NaN                                NaN  ...   \n",
       "\n",
       "  item_31 item_32 item_33 item_34 item_35 item_36 item_37 item_38 item_39  \\\n",
       "0     NaN     NaN     NaN     NaN     NaN     NaN     NaN     NaN     NaN   \n",
       "1     NaN     NaN     NaN     NaN     NaN     NaN     NaN     NaN     NaN   \n",
       "2     NaN     NaN     NaN     NaN     NaN     NaN     NaN     NaN     NaN   \n",
       "3     NaN     NaN     NaN     NaN     NaN     NaN     NaN     NaN     NaN   \n",
       "4     NaN     NaN     NaN     NaN     NaN     NaN     NaN     NaN     NaN   \n",
       "\n",
       "  item_40  \n",
       "0     NaN  \n",
       "1     NaN  \n",
       "2     NaN  \n",
       "3     NaN  \n",
       "4     NaN  \n",
       "\n",
       "[5 rows x 44 columns]"
      ]
     },
     "execution_count": 3,
     "metadata": {},
     "output_type": "execute_result"
    }
   ],
   "source": [
    "  df.head()"
   ]
  },
  {
   "cell_type": "code",
   "execution_count": 4,
   "id": "70a5be9a",
   "metadata": {},
   "outputs": [
    {
     "data": {
      "text/plain": [
       "(31941, 44)"
      ]
     },
     "execution_count": 4,
     "metadata": {},
     "output_type": "execute_result"
    }
   ],
   "source": [
    "df.shape"
   ]
  },
  {
   "cell_type": "markdown",
   "id": "a0fecac7",
   "metadata": {},
   "source": [
    "there are 31941 rows and 44 columns"
   ]
  },
  {
   "cell_type": "code",
   "execution_count": 5,
   "id": "6bba9f07",
   "metadata": {},
   "outputs": [],
   "source": [
    "STUDENT_NAME = 'AnthonetteAdanyin'\n",
    "STUDENT_NO = '0726'"
   ]
  },
  {
   "cell_type": "code",
   "execution_count": 6,
   "id": "b8b64c57",
   "metadata": {},
   "outputs": [],
   "source": [
    "np.random.seed(int(STUDENT_NO))\n",
    "unique_id = int('2' + STUDENT_NO)\n",
    "rows = np.random.choice(df.index.values, unique_id)\n",
    "data = df.loc[rows]"
   ]
  },
  {
   "cell_type": "code",
   "execution_count": 7,
   "id": "4cad67a0",
   "metadata": {},
   "outputs": [],
   "source": [
    "file_name = STUDENT_NAME + \"_\" + STUDENT_NO + \".csv\"\n",
    "data.to_csv(file_name) "
   ]
  },
  {
   "cell_type": "markdown",
   "id": "422e0263",
   "metadata": {},
   "source": [
    "How many unique dates are there in the dataset?"
   ]
  },
  {
   "cell_type": "code",
   "execution_count": 8,
   "id": "1e7d52b9",
   "metadata": {},
   "outputs": [
    {
     "data": {
      "text/plain": [
       "305"
      ]
     },
     "execution_count": 8,
     "metadata": {},
     "output_type": "execute_result"
    }
   ],
   "source": [
    "#the unique dates in the dataset\n",
    "len(data['Date'].unique())"
   ]
  },
  {
   "cell_type": "code",
   "execution_count": 9,
   "id": "338cc1ef",
   "metadata": {},
   "outputs": [
    {
     "data": {
      "text/plain": [
       "array(['11/11/2011', '08/12/2011', '17/12/2010', '23/12/2010',\n",
       "       '26/10/2011', '10/11/2011', '30/09/2011', '01/12/2011',\n",
       "       '11/07/2011', '30/03/2011', '13/11/2011', '23/05/2011',\n",
       "       '14/12/2010', '26/09/2011', '08/04/2011', '04/11/2011',\n",
       "       '02/11/2011', '19/10/2011', '17/10/2011', '01/02/2011',\n",
       "       '03/06/2011', '24/02/2011', '23/03/2011', '23/11/2011',\n",
       "       '02/12/2011', '18/11/2011', '28/03/2011', '03/11/2011',\n",
       "       '26/04/2011', '11/01/2011', '17/06/2011', '19/01/2011',\n",
       "       '27/10/2011', '11/10/2011', '08/11/2011', '21/04/2011',\n",
       "       '23/09/2011', '28/07/2011', '05/12/2010', '16/03/2011',\n",
       "       '04/09/2011', '10/02/2011', '21/07/2011', '18/03/2011',\n",
       "       '06/04/2011', '15/11/2011', '02/12/2010', '02/03/2011',\n",
       "       '06/01/2011', '24/11/2011', '17/08/2011', '12/09/2011',\n",
       "       '19/05/2011', '27/11/2011', '13/07/2011', '08/07/2011',\n",
       "       '04/04/2011', '19/09/2011', '18/07/2011', '24/10/2011',\n",
       "       '18/08/2011', '13/04/2011', '05/04/2011', '20/11/2011',\n",
       "       '21/12/2010', '16/12/2010', '14/11/2011', '20/12/2010',\n",
       "       '29/07/2011', '15/02/2011', '05/10/2011', '05/01/2011',\n",
       "       '01/06/2011', '15/08/2011', '28/09/2011', '16/05/2011',\n",
       "       '04/03/2011', '17/07/2011', '28/02/2011', '10/04/2011',\n",
       "       '19/04/2011', '27/04/2011', '28/06/2011', '14/07/2011',\n",
       "       '29/09/2011', '25/10/2011', '15/05/2011', '10/01/2011',\n",
       "       '21/01/2011', '07/01/2011', '18/10/2011', '01/12/2010',\n",
       "       '14/09/2011', '09/06/2011', '30/11/2011', '12/07/2011',\n",
       "       '07/11/2011', '03/08/2011', '16/10/2011', '12/05/2011',\n",
       "       '12/10/2011', '08/06/2011', '29/11/2011', '22/05/2011',\n",
       "       '10/12/2010', '22/02/2011', '06/11/2011', '21/11/2011',\n",
       "       '30/06/2011', '17/02/2011', '25/11/2011', '29/06/2011',\n",
       "       '07/02/2011', '15/04/2011', '01/07/2011', '20/03/2011',\n",
       "       '04/08/2011', '29/03/2011', '25/02/2011', '13/01/2011',\n",
       "       '02/06/2011', '13/10/2011', '30/10/2011', '15/06/2011',\n",
       "       '13/12/2010', '16/11/2011', '17/05/2011', '22/06/2011',\n",
       "       '16/06/2011', '28/10/2011', '14/08/2011', '13/06/2011',\n",
       "       '18/01/2011', '05/09/2011', '09/09/2011', '24/08/2011',\n",
       "       '05/05/2011', '21/08/2011', '10/03/2011', '02/09/2011',\n",
       "       '20/01/2011', '06/12/2010', '14/04/2011', '22/09/2011',\n",
       "       '08/02/2011', '20/02/2011', '07/12/2011', '01/04/2011',\n",
       "       '13/09/2011', '08/03/2011', '11/04/2011', '04/05/2011',\n",
       "       '14/03/2011', '08/05/2011', '01/08/2011', '27/01/2011',\n",
       "       '22/11/2011', '04/01/2011', '11/08/2011', '30/08/2011',\n",
       "       '21/06/2011', '14/02/2011', '06/06/2011', '01/09/2011',\n",
       "       '26/07/2011', '04/12/2011', '06/10/2011', '07/12/2010',\n",
       "       '23/08/2011', '05/12/2011', '27/07/2011', '06/09/2011',\n",
       "       '10/08/2011', '07/09/2011', '24/06/2011', '25/05/2011',\n",
       "       '17/01/2011', '31/07/2011', '10/10/2011', '12/08/2011',\n",
       "       '18/04/2011', '06/05/2011', '09/05/2011', '20/05/2011',\n",
       "       '22/03/2011', '24/03/2011', '20/06/2011', '12/12/2010',\n",
       "       '14/10/2011', '10/07/2011', '27/09/2011', '21/09/2011',\n",
       "       '24/07/2011', '07/06/2011', '28/01/2011', '06/12/2011',\n",
       "       '18/02/2011', '03/10/2011', '16/02/2011', '17/11/2011',\n",
       "       '23/02/2011', '31/08/2011', '01/11/2011', '28/11/2011',\n",
       "       '03/05/2011', '02/08/2011', '09/12/2010', '04/07/2011',\n",
       "       '07/08/2011', '15/09/2011', '10/05/2011', '17/04/2011',\n",
       "       '06/03/2011', '04/10/2011', '01/05/2011', '13/03/2011',\n",
       "       '21/10/2011', '22/08/2011', '09/11/2011', '19/06/2011',\n",
       "       '31/10/2011', '16/08/2011', '09/10/2011', '24/05/2011',\n",
       "       '15/12/2010', '20/10/2011', '31/05/2011', '24/01/2011',\n",
       "       '25/07/2011', '21/03/2011', '03/07/2011', '09/03/2011',\n",
       "       '05/06/2011', '09/12/2011', '18/05/2011', '07/07/2011',\n",
       "       '23/01/2011', '20/09/2011', '03/12/2010', '09/01/2011',\n",
       "       '15/03/2011', '03/04/2011', '08/12/2010', '19/07/2011',\n",
       "       '03/03/2011', '08/08/2011', '12/06/2011', '23/06/2011',\n",
       "       '12/01/2011', '25/08/2011', '05/08/2011', '02/02/2011',\n",
       "       '17/03/2011', '28/04/2011', '18/09/2011', '11/05/2011',\n",
       "       '13/05/2011', '07/10/2011', '05/07/2011', '31/03/2011',\n",
       "       '23/10/2011', '06/07/2011', '25/03/2011', '08/09/2011',\n",
       "       '27/06/2011', '07/03/2011', '16/09/2011', '27/05/2011',\n",
       "       '13/02/2011', '25/09/2011', '07/04/2011', '28/08/2011',\n",
       "       '14/06/2011', '10/06/2011', '11/02/2011', '26/05/2011',\n",
       "       '25/01/2011', '26/08/2011', '11/09/2011', '20/07/2011',\n",
       "       '20/04/2011', '12/04/2011', '01/03/2011', '09/02/2011',\n",
       "       '11/03/2011', '26/01/2011', '04/02/2011', '09/08/2011',\n",
       "       '03/02/2011', '16/01/2011', '30/01/2011', '21/02/2011',\n",
       "       '19/12/2010', '14/01/2011', '31/01/2011', '29/05/2011',\n",
       "       '27/02/2011', '02/10/2011', '26/06/2011', '27/03/2011',\n",
       "       '22/07/2011', '19/08/2011', '15/07/2011', '22/12/2010',\n",
       "       '06/02/2011'], dtype=object)"
      ]
     },
     "execution_count": 9,
     "metadata": {},
     "output_type": "execute_result"
    }
   ],
   "source": [
    "data['Date'].unique()"
   ]
  },
  {
   "cell_type": "code",
   "execution_count": 10,
   "id": "98cb7f3f",
   "metadata": {},
   "outputs": [],
   "source": [
    "data['Hour'] = pd.to_datetime(data['Time'], format='%H:%M').dt.hour"
   ]
  },
  {
   "cell_type": "code",
   "execution_count": 11,
   "id": "45925d06",
   "metadata": {},
   "outputs": [
    {
     "data": {
      "image/png": "[encoded data removed]",
      "text/plain": [
       "<Figure size 640x480 with 1 Axes>"
      ]
     },
     "metadata": {},
     "output_type": "display_data"
    }
   ],
   "source": [
    "hour_hist = data.hist(column=\"Hour\", bins=15, grid=False)\n",
    " \n",
    "for ax in hour_hist.flatten():\n",
    "    ax.set_xlabel(\"Hour\")\n",
    "    ax.set_ylabel(\"Frequency\")"
   ]
  },
  {
   "cell_type": "markdown",
   "id": "673a083b",
   "metadata": {},
   "source": [
    "observations"
   ]
  },
  {
   "cell_type": "code",
   "execution_count": 12,
   "id": "fc3105a0",
   "metadata": {},
   "outputs": [
    {
     "name": "stdout",
     "output_type": "stream",
     "text": [
      "<class 'pandas.core.frame.DataFrame'>\n",
      "Int64Index: 20726 entries, 27546 to 4599\n",
      "Data columns (total 45 columns):\n",
      " #   Column          Non-Null Count  Dtype \n",
      "---  ------          --------------  ----- \n",
      " 0   transaction_ID  20726 non-null  object\n",
      " 1   Date            20726 non-null  object\n",
      " 2   Time            20726 non-null  object\n",
      " 3   item_0          19718 non-null  object\n",
      " 4   item_1          16746 non-null  object\n",
      " 5   item_2          15585 non-null  object\n",
      " 6   item_3          14722 non-null  object\n",
      " 7   item_4          14060 non-null  object\n",
      " 8   item_5          13442 non-null  object\n",
      " 9   item_6          12955 non-null  object\n",
      " 10  item_7          12461 non-null  object\n",
      " 11  item_8          12001 non-null  object\n",
      " 12  item_9          11522 non-null  object\n",
      " 13  item_10         11067 non-null  object\n",
      " 14  item_11         10607 non-null  object\n",
      " 15  item_12         10244 non-null  object\n",
      " 16  item_13         9841 non-null   object\n",
      " 17  item_14         9418 non-null   object\n",
      " 18  item_15         9045 non-null   object\n",
      " 19  item_16         8619 non-null   object\n",
      " 20  item_17         8267 non-null   object\n",
      " 21  item_18         7929 non-null   object\n",
      " 22  item_19         7563 non-null   object\n",
      " 23  item_20         7258 non-null   object\n",
      " 24  item_21         6987 non-null   object\n",
      " 25  item_22         6726 non-null   object\n",
      " 26  item_23         6445 non-null   object\n",
      " 27  item_24         6197 non-null   object\n",
      " 28  item_25         6005 non-null   object\n",
      " 29  item_26         5798 non-null   object\n",
      " 30  item_27         5613 non-null   object\n",
      " 31  item_28         5416 non-null   object\n",
      " 32  item_29         5202 non-null   object\n",
      " 33  item_30         5046 non-null   object\n",
      " 34  item_31         4868 non-null   object\n",
      " 35  item_32         4713 non-null   object\n",
      " 36  item_33         4582 non-null   object\n",
      " 37  item_34         4448 non-null   object\n",
      " 38  item_35         4345 non-null   object\n",
      " 39  item_36         4230 non-null   object\n",
      " 40  item_37         4115 non-null   object\n",
      " 41  item_38         4030 non-null   object\n",
      " 42  item_39         3930 non-null   object\n",
      " 43  item_40         3821 non-null   object\n",
      " 44  Hour            20726 non-null  int64 \n",
      "dtypes: int64(1), object(44)\n",
      "memory usage: 7.3+ MB\n"
     ]
    }
   ],
   "source": [
    "data.info()"
   ]
  },
  {
   "cell_type": "code",
   "execution_count": 13,
   "id": "42deaedf",
   "metadata": {},
   "outputs": [],
   "source": [
    " data['Date'] = pd.to_datetime(data['Date'])"
   ]
  },
  {
   "cell_type": "code",
   "execution_count": 14,
   "id": "6bb6ca13",
   "metadata": {},
   "outputs": [
    {
     "name": "stdout",
     "output_type": "stream",
     "text": [
      "Requirement already satisfied: apyori in c:\\users\\antho\\anaconda3\\lib\\site-packages (1.1.2)\n",
      "Note: you may need to restart the kernel to use updated packages.\n"
     ]
    }
   ],
   "source": [
    "pip install apyori"
   ]
  },
  {
   "cell_type": "code",
   "execution_count": 15,
   "id": "1c19e082",
   "metadata": {},
   "outputs": [],
   "source": [
    "# import apyori\n",
    "from apyori import apriori"
   ]
  },
  {
   "cell_type": "code",
   "execution_count": 16,
   "id": "087ecee3",
   "metadata": {},
   "outputs": [],
   "source": [
    "items_df=data[data.columns[3:44]]"
   ]
  },
  {
   "cell_type": "code",
   "execution_count": 17,
   "id": "df1ea041",
   "metadata": {
    "scrolled": true
   },
   "outputs": [
    {
     "data": {
      "text/html": [
       "<div>\n",
       "<style scoped>\n",
       "    .dataframe tbody tr th:only-of-type {\n",
       "        vertical-align: middle;\n",
       "    }\n",
       "\n",
       "    .dataframe tbody tr th {\n",
       "        vertical-align: top;\n",
       "    }\n",
       "\n",
       "    .dataframe thead th {\n",
       "        text-align: right;\n",
       "    }\n",
       "</style>\n",
       "<table border=\"1\" class=\"dataframe\">\n",
       "  <thead>\n",
       "    <tr style=\"text-align: right;\">\n",
       "      <th></th>\n",
       "      <th>item_0</th>\n",
       "      <th>item_1</th>\n",
       "      <th>item_2</th>\n",
       "      <th>item_3</th>\n",
       "      <th>item_4</th>\n",
       "      <th>item_5</th>\n",
       "      <th>item_6</th>\n",
       "      <th>item_7</th>\n",
       "      <th>item_8</th>\n",
       "      <th>item_9</th>\n",
       "      <th>...</th>\n",
       "      <th>item_31</th>\n",
       "      <th>item_32</th>\n",
       "      <th>item_33</th>\n",
       "      <th>item_34</th>\n",
       "      <th>item_35</th>\n",
       "      <th>item_36</th>\n",
       "      <th>item_37</th>\n",
       "      <th>item_38</th>\n",
       "      <th>item_39</th>\n",
       "      <th>item_40</th>\n",
       "    </tr>\n",
       "  </thead>\n",
       "  <tbody>\n",
       "    <tr>\n",
       "      <th>27546</th>\n",
       "      <td>LUNCH BAG PAISLEY PARK</td>\n",
       "      <td>ASSORTED COLOUR BIRD ORNAMENT</td>\n",
       "      <td>KNITTED UNION FLAG HOT WATER BOTTLE</td>\n",
       "      <td>WHITE SKULL HOT WATER BOTTLE</td>\n",
       "      <td>LOVE HOT WATER BOTTLE</td>\n",
       "      <td>HOT WATER BOTTLE KEEP CALM</td>\n",
       "      <td>LUNCH BAG RED VINTAGE DOILY</td>\n",
       "      <td>LUNCH BAG VINTAGE DOILY</td>\n",
       "      <td>MINT GREEN ROSE TOWEL</td>\n",
       "      <td>RED RETROSPOT OVEN GLOVE DOUBLE</td>\n",
       "      <td>...</td>\n",
       "      <td>CINAMMON SET OF 9 T-LIGHTS</td>\n",
       "      <td>SET 12 COLOUR PENCILS LOVE LONDON</td>\n",
       "      <td>SET 36 COLOURING PENCILS DOILY</td>\n",
       "      <td>BAKING MOULD HEART WHITE CHOCOLATE</td>\n",
       "      <td>3 PIECE SPACEBOY COOKIE CUTTER SET</td>\n",
       "      <td>STRAWBERRY RAFFIA FOOD COVER</td>\n",
       "      <td>RED FLOWER CROCHET FOOD COVER</td>\n",
       "      <td>STRAWBERRY RAFFIA FOOD COVER</td>\n",
       "      <td>PINK FLOWER CROCHET FOOD COVER</td>\n",
       "      <td>PACK OF 60 MUSHROOM CAKE CASES</td>\n",
       "    </tr>\n",
       "    <tr>\n",
       "      <th>31821</th>\n",
       "      <td>IVORY WICKER HEART SMALL</td>\n",
       "      <td>EGG FRYING PAN PINK</td>\n",
       "      <td>EGG FRYING PAN MINT</td>\n",
       "      <td>EGG FRYING PAN RED</td>\n",
       "      <td>EGG FRYING PAN BLUE</td>\n",
       "      <td>VINTAGE CHRISTMAS CAKE FRILL</td>\n",
       "      <td>JUMBO BAG VINTAGE CHRISTMAS</td>\n",
       "      <td>JUMBO BAG 50'S CHRISTMAS</td>\n",
       "      <td>SPACEBOY BEAKER</td>\n",
       "      <td>ROLL WRAP VINTAGE CHRISTMAS</td>\n",
       "      <td>...</td>\n",
       "      <td>RUSTIC MIRROR WITH LACE HEART</td>\n",
       "      <td>LETTER HOLDER HOME SWEET HOME</td>\n",
       "      <td>HOME SWEET HOME BLACKBOARD</td>\n",
       "      <td>DECORATIVE VINTAGE COFFEE  BOX</td>\n",
       "      <td>GINGHAM RECIPE BOOK BOX</td>\n",
       "      <td>IVORY RETRO KITCHEN WALL CLOCK</td>\n",
       "      <td>3 RAFFIA RIBBONS 50'S CHRISTMAS</td>\n",
       "      <td>3 RAFFIA RIBBONS VINTAGE CHRISTMAS</td>\n",
       "      <td>HAND WARMER RED LOVE HEART</td>\n",
       "      <td>TUSCAN VILLA DOVECOTE BIRD FEEDER</td>\n",
       "    </tr>\n",
       "    <tr>\n",
       "      <th>2182</th>\n",
       "      <td>BOX OF VINTAGE ALPHABET BLOCKS</td>\n",
       "      <td>IVORY KITCHEN SCALES</td>\n",
       "      <td>RED KITCHEN SCALES</td>\n",
       "      <td>MINT KITCHEN SCALES</td>\n",
       "      <td>DOLLY GIRL LUNCH BOX</td>\n",
       "      <td>CIRCUS PARADE LUNCH BOX</td>\n",
       "      <td>CERAMIC STRAWBERRY CAKE MONEY BANK</td>\n",
       "      <td>STRAWBERRY FAIRY CAKE TEAPOT</td>\n",
       "      <td>GENTLEMAN SHIRT REPAIR KIT</td>\n",
       "      <td>DELUXE SEWING KIT</td>\n",
       "      <td>...</td>\n",
       "      <td>MAKE YOUR OWN FLOWERPOWER CARD KIT</td>\n",
       "      <td>MAKE YOUR OWN MONSOON CARD KIT</td>\n",
       "      <td>POPPY'S PLAYHOUSE BEDROOM</td>\n",
       "      <td>POPPY'S PLAYHOUSE LIVINGROOM</td>\n",
       "      <td>POPPY'S PLAYHOUSE KITCHEN</td>\n",
       "      <td>FELTCRAFT PRINCESS CHARLOTTE DOLL</td>\n",
       "      <td>SET 7 BABUSHKA NESTING BOXES</td>\n",
       "      <td>SMALL YELLOW BABUSHKA NOTEBOOK</td>\n",
       "      <td>LARGE RED BABUSHKA NOTEBOOK</td>\n",
       "      <td>SET OF 3 NOTEBOOKS IN PARCEL</td>\n",
       "    </tr>\n",
       "    <tr>\n",
       "      <th>2510</th>\n",
       "      <td>JUMBO BAG WOODLAND ANIMALS</td>\n",
       "      <td>RED RETROSPOT SHOPPER BAG</td>\n",
       "      <td>WOODLAND CHARLOTTE BAG</td>\n",
       "      <td>STRAWBERRY CHARLOTTE BAG</td>\n",
       "      <td>RED RETROSPOT CHARLOTTE BAG</td>\n",
       "      <td>LUNCH BAG WOODLAND</td>\n",
       "      <td>LUNCH BAG CARS BLUE</td>\n",
       "      <td>SILVER MINI TAPE MEASURE</td>\n",
       "      <td>WATERMELON BATH SPONGE</td>\n",
       "      <td>PACK OF 72 SKULL CAKE CASES</td>\n",
       "      <td>...</td>\n",
       "      <td>REGENCY CAKESTAND 3 TIER</td>\n",
       "      <td>PLASTERS IN TIN SKULLS</td>\n",
       "      <td>CERAMIC CHERRY CAKE MONEY BANK</td>\n",
       "      <td>CERAMIC STRAWBERRY CAKE MONEY BANK</td>\n",
       "      <td>TRAVEL SEWING KIT</td>\n",
       "      <td>DELUXE SEWING KIT</td>\n",
       "      <td>DOORMAT HOME SWEET HOME BLUE</td>\n",
       "      <td>DOORMAT WELCOME TO OUR HOME</td>\n",
       "      <td>WICKER STAR</td>\n",
       "      <td>RIBBON REEL CHRISTMAS SOCK BAUBLE</td>\n",
       "    </tr>\n",
       "    <tr>\n",
       "      <th>25385</th>\n",
       "      <td>GIANT 50'S CHRISTMAS CRACKER</td>\n",
       "      <td>NaN</td>\n",
       "      <td>NaN</td>\n",
       "      <td>NaN</td>\n",
       "      <td>NaN</td>\n",
       "      <td>NaN</td>\n",
       "      <td>NaN</td>\n",
       "      <td>NaN</td>\n",
       "      <td>NaN</td>\n",
       "      <td>NaN</td>\n",
       "      <td>...</td>\n",
       "      <td>NaN</td>\n",
       "      <td>NaN</td>\n",
       "      <td>NaN</td>\n",
       "      <td>NaN</td>\n",
       "      <td>NaN</td>\n",
       "      <td>NaN</td>\n",
       "      <td>NaN</td>\n",
       "      <td>NaN</td>\n",
       "      <td>NaN</td>\n",
       "      <td>NaN</td>\n",
       "    </tr>\n",
       "  </tbody>\n",
       "</table>\n",
       "<p>5 rows × 41 columns</p>\n",
       "</div>"
      ],
      "text/plain": [
       "                               item_0                         item_1  \\\n",
       "27546          LUNCH BAG PAISLEY PARK  ASSORTED COLOUR BIRD ORNAMENT   \n",
       "31821        IVORY WICKER HEART SMALL            EGG FRYING PAN PINK   \n",
       "2182   BOX OF VINTAGE ALPHABET BLOCKS           IVORY KITCHEN SCALES   \n",
       "2510       JUMBO BAG WOODLAND ANIMALS      RED RETROSPOT SHOPPER BAG   \n",
       "25385    GIANT 50'S CHRISTMAS CRACKER                            NaN   \n",
       "\n",
       "                                    item_2                        item_3  \\\n",
       "27546  KNITTED UNION FLAG HOT WATER BOTTLE  WHITE SKULL HOT WATER BOTTLE   \n",
       "31821                  EGG FRYING PAN MINT            EGG FRYING PAN RED   \n",
       "2182                    RED KITCHEN SCALES           MINT KITCHEN SCALES   \n",
       "2510                WOODLAND CHARLOTTE BAG      STRAWBERRY CHARLOTTE BAG   \n",
       "25385                                  NaN                           NaN   \n",
       "\n",
       "                            item_4                        item_5  \\\n",
       "27546        LOVE HOT WATER BOTTLE    HOT WATER BOTTLE KEEP CALM   \n",
       "31821          EGG FRYING PAN BLUE  VINTAGE CHRISTMAS CAKE FRILL   \n",
       "2182          DOLLY GIRL LUNCH BOX       CIRCUS PARADE LUNCH BOX   \n",
       "2510   RED RETROSPOT CHARLOTTE BAG            LUNCH BAG WOODLAND   \n",
       "25385                          NaN                           NaN   \n",
       "\n",
       "                                   item_6                        item_7  \\\n",
       "27546         LUNCH BAG RED VINTAGE DOILY       LUNCH BAG VINTAGE DOILY   \n",
       "31821         JUMBO BAG VINTAGE CHRISTMAS      JUMBO BAG 50'S CHRISTMAS   \n",
       "2182   CERAMIC STRAWBERRY CAKE MONEY BANK  STRAWBERRY FAIRY CAKE TEAPOT   \n",
       "2510                  LUNCH BAG CARS BLUE      SILVER MINI TAPE MEASURE   \n",
       "25385                                 NaN                           NaN   \n",
       "\n",
       "                           item_8                           item_9  ...  \\\n",
       "27546       MINT GREEN ROSE TOWEL  RED RETROSPOT OVEN GLOVE DOUBLE  ...   \n",
       "31821             SPACEBOY BEAKER      ROLL WRAP VINTAGE CHRISTMAS  ...   \n",
       "2182   GENTLEMAN SHIRT REPAIR KIT                DELUXE SEWING KIT  ...   \n",
       "2510       WATERMELON BATH SPONGE      PACK OF 72 SKULL CAKE CASES  ...   \n",
       "25385                         NaN                              NaN  ...   \n",
       "\n",
       "                                  item_31                            item_32  \\\n",
       "27546          CINAMMON SET OF 9 T-LIGHTS  SET 12 COLOUR PENCILS LOVE LONDON   \n",
       "31821       RUSTIC MIRROR WITH LACE HEART      LETTER HOLDER HOME SWEET HOME   \n",
       "2182   MAKE YOUR OWN FLOWERPOWER CARD KIT     MAKE YOUR OWN MONSOON CARD KIT   \n",
       "2510             REGENCY CAKESTAND 3 TIER             PLASTERS IN TIN SKULLS   \n",
       "25385                                 NaN                                NaN   \n",
       "\n",
       "                              item_33                             item_34  \\\n",
       "27546  SET 36 COLOURING PENCILS DOILY  BAKING MOULD HEART WHITE CHOCOLATE   \n",
       "31821      HOME SWEET HOME BLACKBOARD      DECORATIVE VINTAGE COFFEE  BOX   \n",
       "2182        POPPY'S PLAYHOUSE BEDROOM        POPPY'S PLAYHOUSE LIVINGROOM   \n",
       "2510   CERAMIC CHERRY CAKE MONEY BANK  CERAMIC STRAWBERRY CAKE MONEY BANK   \n",
       "25385                             NaN                                 NaN   \n",
       "\n",
       "                                  item_35                            item_36  \\\n",
       "27546  3 PIECE SPACEBOY COOKIE CUTTER SET       STRAWBERRY RAFFIA FOOD COVER   \n",
       "31821             GINGHAM RECIPE BOOK BOX     IVORY RETRO KITCHEN WALL CLOCK   \n",
       "2182            POPPY'S PLAYHOUSE KITCHEN  FELTCRAFT PRINCESS CHARLOTTE DOLL   \n",
       "2510                    TRAVEL SEWING KIT                  DELUXE SEWING KIT   \n",
       "25385                                 NaN                                NaN   \n",
       "\n",
       "                               item_37                             item_38  \\\n",
       "27546    RED FLOWER CROCHET FOOD COVER        STRAWBERRY RAFFIA FOOD COVER   \n",
       "31821  3 RAFFIA RIBBONS 50'S CHRISTMAS  3 RAFFIA RIBBONS VINTAGE CHRISTMAS   \n",
       "2182      SET 7 BABUSHKA NESTING BOXES      SMALL YELLOW BABUSHKA NOTEBOOK   \n",
       "2510      DOORMAT HOME SWEET HOME BLUE         DOORMAT WELCOME TO OUR HOME   \n",
       "25385                              NaN                                 NaN   \n",
       "\n",
       "                              item_39                            item_40  \n",
       "27546  PINK FLOWER CROCHET FOOD COVER     PACK OF 60 MUSHROOM CAKE CASES  \n",
       "31821      HAND WARMER RED LOVE HEART  TUSCAN VILLA DOVECOTE BIRD FEEDER  \n",
       "2182      LARGE RED BABUSHKA NOTEBOOK       SET OF 3 NOTEBOOKS IN PARCEL  \n",
       "2510                      WICKER STAR  RIBBON REEL CHRISTMAS SOCK BAUBLE  \n",
       "25385                             NaN                                NaN  \n",
       "\n",
       "[5 rows x 41 columns]"
      ]
     },
     "execution_count": 17,
     "metadata": {},
     "output_type": "execute_result"
    }
   ],
   "source": [
    "items_df.head()"
   ]
  },
  {
   "cell_type": "code",
   "execution_count": 18,
   "id": "695722c6",
   "metadata": {},
   "outputs": [],
   "source": [
    "baskets = items_df.T.apply(lambda x: x.dropna().tolist()).tolist()"
   ]
  },
  {
   "cell_type": "code",
   "execution_count": 19,
   "id": "3833639a",
   "metadata": {},
   "outputs": [
    {
     "name": "stdout",
     "output_type": "stream",
     "text": [
      "20726\n"
     ]
    }
   ],
   "source": [
    "print(len(baskets))"
   ]
  },
  {
   "cell_type": "code",
   "execution_count": 20,
   "id": "739ebcca",
   "metadata": {},
   "outputs": [
    {
     "name": "stdout",
     "output_type": "stream",
     "text": [
      "['LUNCH BAG PAISLEY PARK', 'ASSORTED COLOUR BIRD ORNAMENT', 'KNITTED UNION FLAG HOT WATER BOTTLE', 'WHITE SKULL HOT WATER BOTTLE', 'LOVE HOT WATER BOTTLE', 'HOT WATER BOTTLE KEEP CALM', 'LUNCH BAG RED VINTAGE DOILY', 'LUNCH BAG VINTAGE DOILY', 'MINT GREEN ROSE TOWEL', 'RED RETROSPOT OVEN GLOVE DOUBLE', 'PACK OF 60 MUSHROOM CAKE CASES', 'RIBBON REEL STRIPES DESIGN', '12 PENCILS TALL TUBE WOODLAND', '72 SWEETHEART FAIRY CAKE CASES', 'SKULLS WRITING SET', 'SET 12 COLOURING PENCILS DOILY', '12 PENCILS TALL TUBE RED RETROSPOT', '6 RIBBONS RUSTIC CHARM', 'RED RETROSPOT OVEN GLOVE DOUBLE', 'WHITE HANGING HEART T-LIGHT HOLDER', 'SET OF 20 KIDS COOKIE CUTTERS', 'PINK PAISLEY SQUARE TISSUE BOX', 'RIBBON REEL STRIPES DESIGN', '72 SWEETHEART FAIRY CAKE CASES', 'RIBBON REEL STRIPES DESIGN', 'SET 12 COLOUR PENCILS LOVE LONDON', 'SET 36 COLOUR PENCILS LOVE LONDON', '12 PENCILS TALL TUBE SKULLS', '36 PENCILS TUBE SKULLS', 'SET 12 COLOURING PENCILS DOILY', 'SET OF 20 KIDS COOKIE CUTTERS', 'CINAMMON SET OF 9 T-LIGHTS', 'SET 12 COLOUR PENCILS LOVE LONDON', 'SET 36 COLOURING PENCILS DOILY', 'BAKING MOULD HEART WHITE CHOCOLATE', '3 PIECE SPACEBOY COOKIE CUTTER SET', 'STRAWBERRY RAFFIA FOOD COVER', 'RED FLOWER CROCHET FOOD COVER', 'STRAWBERRY RAFFIA FOOD COVER', 'PINK FLOWER CROCHET FOOD COVER', 'PACK OF 60 MUSHROOM CAKE CASES']\n",
      "['IVORY WICKER HEART SMALL', 'EGG FRYING PAN PINK', 'EGG FRYING PAN MINT', 'EGG FRYING PAN RED', 'EGG FRYING PAN BLUE', 'VINTAGE CHRISTMAS CAKE FRILL', 'JUMBO BAG VINTAGE CHRISTMAS', \"JUMBO BAG 50'S CHRISTMAS\", 'SPACEBOY BEAKER', 'ROLL WRAP VINTAGE CHRISTMAS', \"ROLL WRAP 50'S CHRISTMAS\", \"ROLL WRAP 50'S RED CHRISTMAS\", '6 GIFT TAGS VINTAGE CHRISTMAS', 'LOVE HOT WATER BOTTLE', 'SET 12 COLOURING PENCILS DOILY', 'SET 12 COLOUR PENCILS SPACEBOY', 'SET 12 COLOUR PENCILS DOLLY GIRL', 'SET 36 COLOURING PENCILS DOILY', 'SET 36 COLOUR PENCILS SPACEBOY', 'SET 36 COLOUR PENCILS DOLLY GIRL', 'PACK OF 12 DOLLY GIRL TISSUES', \"PACK OF 12 50'S CHRISTMAS TISSUES\", 'PACK OF 12 VINTAGE DOILY TISSUES', 'BOX OF 6 CHRISTMAS CAKE DECORATIONS', 'I LOVE LONDON MINI BACKPACK', 'HOME SWEET HOME CUSHION COVER', 'POSTE FRANCE CUSHION COVER', 'BELLE JARDINIERE CUSHION COVER', 'LE JARDIN BOTANIQUE CUSHION COVER', 'FOOT STOOL HOME SWEET HOME', 'HOME SWEET HOME HANGING HEART', 'RUSTIC MIRROR WITH LACE HEART', 'LETTER HOLDER HOME SWEET HOME', 'HOME SWEET HOME BLACKBOARD', 'DECORATIVE VINTAGE COFFEE  BOX', 'GINGHAM RECIPE BOOK BOX', 'IVORY RETRO KITCHEN WALL CLOCK', \"3 RAFFIA RIBBONS 50'S CHRISTMAS\", '3 RAFFIA RIBBONS VINTAGE CHRISTMAS', 'HAND WARMER RED LOVE HEART', 'TUSCAN VILLA DOVECOTE BIRD FEEDER']\n",
      "['BOX OF VINTAGE ALPHABET BLOCKS', 'IVORY KITCHEN SCALES', 'RED KITCHEN SCALES', 'MINT KITCHEN SCALES', 'DOLLY GIRL LUNCH BOX', 'CIRCUS PARADE LUNCH BOX', 'CERAMIC STRAWBERRY CAKE MONEY BANK', 'STRAWBERRY FAIRY CAKE TEAPOT', 'GENTLEMAN SHIRT REPAIR KIT', 'DELUXE SEWING KIT', 'LUNCH BOX I LOVE LONDON', 'LUNCH BAG DOLLY GIRL DESIGN', 'RECIPE BOX BLUE SKETCHBOOK DESIGN', 'RECIPE BOX PANTRY YELLOW DESIGN', 'PINK BABY BUNTING', 'RED BABY BUNTING', 'WICKER STAR', 'GREEN REGENCY TEACUP AND SAUCER', 'ROSES REGENCY TEACUP AND SAUCER', 'CARD I LOVE LONDON', 'CARD BIRTHDAY COWBOY', 'SET OF 3 CAKE TINS PANTRY DESIGN', 'SET OF 6 SPICE TINS PANTRY DESIGN', 'ALARM CLOCK BAKELIKE GREEN', 'ALARM CLOCK BAKELIKE RED', 'ALARM CLOCK BAKELIKE PINK', 'ALARM CLOCK BAKELIKE IVORY', 'RIBBON REEL CHRISTMAS PRESENT', 'RIBBON REEL SNOWY VILLAGE', 'RIBBON REEL CHRISTMAS SOCK BAUBLE', 'FUNKY DIVA PEN', 'MAKE YOUR OWN FLOWERPOWER CARD KIT', 'MAKE YOUR OWN MONSOON CARD KIT', \"POPPY'S PLAYHOUSE BEDROOM\", \"POPPY'S PLAYHOUSE LIVINGROOM\", \"POPPY'S PLAYHOUSE KITCHEN\", 'FELTCRAFT PRINCESS CHARLOTTE DOLL', 'SET 7 BABUSHKA NESTING BOXES', 'SMALL YELLOW BABUSHKA NOTEBOOK', 'LARGE RED BABUSHKA NOTEBOOK', 'SET OF 3 NOTEBOOKS IN PARCEL']\n",
      "['JUMBO BAG WOODLAND ANIMALS', 'RED RETROSPOT SHOPPER BAG', 'WOODLAND CHARLOTTE BAG', 'STRAWBERRY CHARLOTTE BAG', 'RED RETROSPOT CHARLOTTE BAG', 'LUNCH BAG WOODLAND', 'LUNCH BAG CARS BLUE', 'SILVER MINI TAPE MEASURE', 'WATERMELON BATH SPONGE', 'PACK OF 72 SKULL CAKE CASES', 'BALLOONS  WRITING SET', 'WHITE SKULL HOT WATER BOTTLE', 'FAWN BLUE HOT WATER BOTTLE', 'CHICK GREY HOT WATER BOTTLE', 'DOORMAT SPOTTY HOME SWEET HOME', 'UNION JACK FLAG PASSPORT COVER', 'UNION JACK FLAG LUGGAGE TAG', 'JUMBO BAG PINK VINTAGE PAISLEY', 'JUMBO STORAGE BAG SKULLS', 'JUMBO STORAGE BAG SUKI', 'SKULL SHOULDER BAG', 'DOORMAT UNION JACK GUNS AND ROSES', 'PACK OF 20 SKULL PAPER NAPKINS', 'RIBBON REEL STRIPES DESIGN', 'BIRD HOUSE HOT WATER BOTTLE', 'CHOCOLATE HOT WATER BOTTLE', 'HOT WATER BOTTLE TEA AND SYMPATHY', 'CHARLOTTE BAG SUKI DESIGN', 'CHARLOTTE BAG PINK POLKADOT', 'CHILDRENS APRON SPACEBOY DESIGN', 'JUMBO SHOPPER VINTAGE RED PAISLEY', 'REGENCY CAKESTAND 3 TIER', 'PLASTERS IN TIN SKULLS', 'CERAMIC CHERRY CAKE MONEY BANK', 'CERAMIC STRAWBERRY CAKE MONEY BANK', 'TRAVEL SEWING KIT', 'DELUXE SEWING KIT', 'DOORMAT HOME SWEET HOME BLUE', 'DOORMAT WELCOME TO OUR HOME', 'WICKER STAR', 'RIBBON REEL CHRISTMAS SOCK BAUBLE']\n",
      "[\"GIANT 50'S CHRISTMAS CRACKER\"]\n"
     ]
    }
   ],
   "source": [
    "for i in baskets[:5]:\n",
    "    print(i)"
   ]
  },
  {
   "cell_type": "code",
   "execution_count": 21,
   "id": "048541e7",
   "metadata": {},
   "outputs": [],
   "source": [
    "association_rules = apriori(baskets, min_support=0.01, min_confidence=0.2, \n",
    "                            min_lift=3, min_length=2)\n",
    "association_results = list(association_rules)"
   ]
  },
  {
   "cell_type": "code",
   "execution_count": 22,
   "id": "71a23a1b",
   "metadata": {},
   "outputs": [
    {
     "name": "stdout",
     "output_type": "stream",
     "text": [
      "Rules generated:  87\n"
     ]
    }
   ],
   "source": [
    "print('Rules generated: ', len(association_results))"
   ]
  },
  {
   "cell_type": "code",
   "execution_count": 23,
   "id": "47f5a61d",
   "metadata": {},
   "outputs": [
    {
     "name": "stdout",
     "output_type": "stream",
     "text": [
      "RelationRecord(items=frozenset({'ALARM CLOCK BAKELIKE IVORY', 'ALARM CLOCK BAKELIKE GREEN'}), support=0.011193669786741292, ordered_statistics=[OrderedStatistic(items_base=frozenset({'ALARM CLOCK BAKELIKE GREEN'}), items_add=frozenset({'ALARM CLOCK BAKELIKE IVORY'}), confidence=0.3585780525502319, lift=17.77963807932083), OrderedStatistic(items_base=frozenset({'ALARM CLOCK BAKELIKE IVORY'}), items_add=frozenset({'ALARM CLOCK BAKELIKE GREEN'}), confidence=0.5550239234449761, lift=17.779638079320826)])\n"
     ]
    }
   ],
   "source": [
    "print(association_results[0])"
   ]
  },
  {
   "cell_type": "code",
   "execution_count": 24,
   "id": "c9ffbe12",
   "metadata": {},
   "outputs": [
    {
     "name": "stdout",
     "output_type": "stream",
     "text": [
      "RelationRecord(items=frozenset({'ALARM CLOCK BAKELIKE PINK', 'ALARM CLOCK BAKELIKE GREEN'}), support=0.012834121393418893, ordered_statistics=[OrderedStatistic(items_base=frozenset({'ALARM CLOCK BAKELIKE GREEN'}), items_add=frozenset({'ALARM CLOCK BAKELIKE PINK'}), confidence=0.41112828438948995, lift=15.779712633808462), OrderedStatistic(items_base=frozenset({'ALARM CLOCK BAKELIKE PINK'}), items_add=frozenset({'ALARM CLOCK BAKELIKE GREEN'}), confidence=0.4925925925925926, lift=15.779712633808462)])\n"
     ]
    }
   ],
   "source": [
    "print(association_results[1])"
   ]
  },
  {
   "cell_type": "code",
   "execution_count": 25,
   "id": "9adc72cd",
   "metadata": {},
   "outputs": [
    {
     "name": "stdout",
     "output_type": "stream",
     "text": [
      "frozenset({'ALARM CLOCK BAKELIKE PINK', 'ALARM CLOCK BAKELIKE GREEN'})\n"
     ]
    }
   ],
   "source": [
    "print(association_results[1][0])"
   ]
  },
  {
   "cell_type": "code",
   "execution_count": 26,
   "id": "e94a8b48",
   "metadata": {},
   "outputs": [],
   "source": [
    "def display_rules(association_results):\n",
    "    for item in association_results:\n",
    "        pair = item[0] \n",
    "        items = [x for x in pair]\n",
    "        print(\"Rule: \" + items[0] + \" -> \" + items[1])\n",
    "        print(\"Support: \" + str(item[1]))\n",
    "        print(\"Confidence: \" + str(item[2][0][2]))\n",
    "        print(\"Lift: \" + str(item[2][0][3]))\n",
    "        print(\"=====================================\")"
   ]
  },
  {
   "cell_type": "code",
   "execution_count": 27,
   "id": "cbe1cdb4",
   "metadata": {},
   "outputs": [
    {
     "name": "stdout",
     "output_type": "stream",
     "text": [
      "Rule: ALARM CLOCK BAKELIKE IVORY -> ALARM CLOCK BAKELIKE GREEN\n",
      "Support: 0.011193669786741292\n",
      "Confidence: 0.3585780525502319\n",
      "Lift: 17.77963807932083\n",
      "=====================================\n",
      "Rule: ALARM CLOCK BAKELIKE PINK -> ALARM CLOCK BAKELIKE GREEN\n",
      "Support: 0.012834121393418893\n",
      "Confidence: 0.41112828438948995\n",
      "Lift: 15.779712633808462\n",
      "=====================================\n",
      "Rule: ALARM CLOCK BAKELIKE RED -> ALARM CLOCK BAKELIKE GREEN\n",
      "Support: 0.01934767924346232\n",
      "Confidence: 0.6197836166924267\n",
      "Lift: 18.016318709070458\n",
      "=====================================\n",
      "Rule: ALARM CLOCK BAKELIKE IVORY -> ALARM CLOCK BAKELIKE RED\n",
      "Support: 0.01211039274341407\n",
      "Confidence: 0.6004784688995216\n",
      "Lift: 17.455142701839392\n",
      "=====================================\n",
      "Rule: ALARM CLOCK BAKELIKE PINK -> ALARM CLOCK BAKELIKE RED\n",
      "Support: 0.01500530734343337\n",
      "Confidence: 0.575925925925926\n",
      "Lift: 16.741431613942133\n",
      "=====================================\n",
      "Rule: RED  HARMONICA IN BOX -> BLUE HARMONICA IN BOX\n",
      "Support: 0.010807681173405385\n",
      "Confidence: 0.5450121654501217\n",
      "Lift: 24.99097818831686\n",
      "=====================================\n",
      "Rule: CHARLOTTE BAG SUKI DESIGN -> CHARLOTTE BAG PINK POLKADOT\n",
      "Support: 0.01211039274341407\n",
      "Confidence: 0.535181236673774\n",
      "Lift: 19.391899145630493\n",
      "=====================================\n",
      "Rule: CHARLOTTE BAG PINK POLKADOT -> RED RETROSPOT CHARLOTTE BAG\n",
      "Support: 0.011290166940075268\n",
      "Confidence: 0.49893390191897663\n",
      "Lift: 14.08842513783748\n",
      "=====================================\n",
      "Rule: CHARLOTTE BAG SUKI DESIGN -> RED RETROSPOT CHARLOTTE BAG\n",
      "Support: 0.01095242690340635\n",
      "Confidence: 0.3968531468531469\n",
      "Lift: 11.205965015910522\n",
      "=====================================\n",
      "Rule: HOT WATER BOTTLE I AM SO POORLY -> CHOCOLATE HOT WATER BOTTLE\n",
      "Support: 0.01008395252340056\n",
      "Confidence: 0.37725631768953066\n",
      "Lift: 17.337060843532623\n",
      "=====================================\n",
      "Rule: CHOCOLATE HOT WATER BOTTLE -> HOT WATER BOTTLE TEA AND SYMPATHY\n",
      "Support: 0.010276946830068513\n",
      "Confidence: 0.38447653429602885\n",
      "Lift: 17.94743389598985\n",
      "=====================================\n",
      "Rule: CHOCOLATE HOT WATER BOTTLE -> SCOTTIE DOG HOT WATER BOTTLE\n",
      "Support: 0.01008395252340056\n",
      "Confidence: 0.37725631768953066\n",
      "Lift: 14.836839545414065\n",
      "=====================================\n",
      "Rule: COOK WITH WINE METAL SIGN -> PLEASE ONE PERSON METAL SIGN\n",
      "Support: 0.010325195406735502\n",
      "Confidence: 0.4439834024896266\n",
      "Lift: 16.257950530035338\n",
      "=====================================\n",
      "Rule: SPACEBOY LUNCH BOX -> DOLLY GIRL LUNCH BOX\n",
      "Support: 0.017417736176782786\n",
      "Confidence: 0.6311188811188811\n",
      "Lift: 21.54953859978572\n",
      "=====================================\n",
      "Rule: DOTCOM POSTAGE -> JUMBO BAG RED RETROSPOT\n",
      "Support: 0.011676155553411175\n",
      "Confidence: 0.48594377510040165\n",
      "Lift: 7.3195281124498\n",
      "=====================================\n",
      "Rule: GARDENERS KNEELING PAD CUP OF TEA -> GARDENERS KNEELING PAD KEEP CALM\n",
      "Support: 0.01558429026343723\n",
      "Confidence: 0.6901709401709402\n",
      "Lift: 24.578149322994683\n",
      "=====================================\n",
      "Rule: GREEN REGENCY TEACUP AND SAUCER -> PINK REGENCY TEACUP AND SAUCER\n",
      "Support: 0.02069863939013799\n",
      "Confidence: 0.58130081300813\n",
      "Lift: 22.147133548541365\n",
      "=====================================\n",
      "Rule: GREEN REGENCY TEACUP AND SAUCER -> REGENCY CAKESTAND 3 TIER\n",
      "Support: 0.013943838656759626\n",
      "Confidence: 0.39159891598915986\n",
      "Lift: 5.6916403455759665\n",
      "=====================================\n",
      "Rule: GREEN REGENCY TEACUP AND SAUCER -> ROSES REGENCY TEACUP AND SAUCER\n",
      "Support: 0.025523497056836823\n",
      "Confidence: 0.7168021680216802\n",
      "Lift: 18.593794411035475\n",
      "=====================================\n",
      "Rule: HAND WARMER SCOTTY DOG DESIGN -> HAND WARMER OWL DESIGN\n",
      "Support: 0.010855929750072373\n",
      "Confidence: 0.5056179775280899\n",
      "Lift: 27.577468953282082\n",
      "=====================================\n",
      "Rule: HEART OF WICKER LARGE -> HEART OF WICKER SMALL\n",
      "Support: 0.014522821576763486\n",
      "Confidence: 0.4785373608903021\n",
      "Lift: 12.71559659206718\n",
      "=====================================\n",
      "Rule: JAM MAKING SET PRINTED -> JAM MAKING SET WITH JARS\n",
      "Support: 0.013316607160088777\n",
      "Confidence: 0.3670212765957446\n",
      "Lift: 9.209301427025911\n",
      "=====================================\n",
      "Rule: SET OF 3 CAKE TINS PANTRY DESIGN -> JAM MAKING SET WITH JARS\n",
      "Support: 0.010325195406735502\n",
      "Confidence: 0.25907990314769974\n",
      "Lift: 5.396673439838417\n",
      "=====================================\n",
      "Rule: JUMBO BAG RED RETROSPOT -> JUMBO  BAG BAROQUE BLACK WHITE\n",
      "Support: 0.016163273183441088\n",
      "Confidence: 0.6025179856115108\n",
      "Lift: 9.075427158273381\n",
      "=====================================\n",
      "Rule: JUMBO BAG ALPHABET -> JUMBO BAG APPLES\n",
      "Support: 0.011145421210074303\n",
      "Confidence: 0.3869346733668342\n",
      "Lift: 12.770076497135358\n",
      "=====================================\n",
      "Rule: JUMBO BAG APPLES -> JUMBO BAG PEARS\n",
      "Support: 0.011917398436746116\n",
      "Confidence: 0.39331210191082805\n",
      "Lift: 21.85465582896467\n",
      "=====================================\n",
      "Rule: JUMBO BAG APPLES -> JUMBO BAG RED RETROSPOT\n",
      "Support: 0.011193669786741292\n",
      "Confidence: 0.3694267515923567\n",
      "Lift: 5.564490445859873\n",
      "=====================================\n",
      "Rule: JUMBO BAG APPLES -> JUMBO BAG VINTAGE LEAF\n",
      "Support: 0.010035703946733572\n",
      "Confidence: 0.3312101910828026\n",
      "Lift: 11.876578581976066\n",
      "=====================================\n",
      "Rule: JUMBO BAG RED RETROSPOT -> JUMBO BAG PINK POLKADOT\n",
      "Support: 0.017900221943452668\n",
      "Confidence: 0.48244473342002603\n",
      "Lift: 7.266823797139142\n",
      "=====================================\n",
      "Rule: JUMBO BAG PINK POLKADOT -> JUMBO SHOPPER VINTAGE RED PAISLEY\n",
      "Support: 0.012206889896748046\n",
      "Confidence: 0.328998699609883\n",
      "Lift: 9.418269403472976\n",
      "=====================================\n",
      "Rule: JUMBO BAG PINK POLKADOT -> JUMBO STORAGE BAG SUKI\n",
      "Support: 0.01153140982341021\n",
      "Confidence: 0.3107932379713914\n",
      "Lift: 8.669583647638031\n",
      "=====================================\n",
      "Rule: JUMBO BAG PINK VINTAGE PAISLEY -> JUMBO BAG RED RETROSPOT\n",
      "Support: 0.010421692560069478\n",
      "Confidence: 0.38848920863309355\n",
      "Lift: 5.851618705035972\n",
      "=====================================\n",
      "Rule: JUMBO BAG SCANDINAVIAN BLUE PAISLEY -> JUMBO BAG PINK VINTAGE PAISLEY\n",
      "Support: 0.010711184020071408\n",
      "Confidence: 0.39928057553956836\n",
      "Lift: 19.7035457348407\n",
      "=====================================\n",
      "Rule: JUMBO BAG RED RETROSPOT -> JUMBO BAG STRAWBERRY\n",
      "Support: 0.015150053073434333\n",
      "Confidence: 0.22819767441860464\n",
      "Lift: 9.026001908396946\n",
      "=====================================\n",
      "Rule: JUMBO BAG RED RETROSPOT -> JUMBO BAG VINTAGE LEAF\n",
      "Support: 0.011290166940075268\n",
      "Confidence: 0.4048442906574395\n",
      "Lift: 6.097967128027682\n",
      "=====================================\n",
      "Rule: JUMBO BAG RED RETROSPOT -> JUMBO BAG WOODLAND ANIMALS\n",
      "Support: 0.010325195406735502\n",
      "Confidence: 0.3970315398886827\n",
      "Lift: 5.980287569573283\n",
      "=====================================\n",
      "Rule: JUMBO BAG RED RETROSPOT -> JUMBO SHOPPER VINTAGE RED PAISLEY\n",
      "Support: 0.013461352890089743\n",
      "Confidence: 0.20276162790697674\n",
      "Lift: 5.8044716850828735\n",
      "=====================================\n",
      "Rule: JUMBO BAG RED RETROSPOT -> JUMBO STORAGE BAG SUKI\n",
      "Support: 0.01408858438676059\n",
      "Confidence: 0.21220930232558138\n",
      "Lift: 5.919582772543741\n",
      "=====================================\n",
      "Rule: LUNCH BAG RED RETROSPOT -> JUMBO BAG RED RETROSPOT\n",
      "Support: 0.01211039274341407\n",
      "Confidence: 0.23701605288007552\n",
      "Lift: 3.5700542965061373\n",
      "=====================================\n",
      "Rule: JUMBO STORAGE BAG SUKI -> JUMBO SHOPPER VINTAGE RED PAISLEY\n",
      "Support: 0.012255138473415035\n",
      "Confidence: 0.350828729281768\n",
      "Lift: 9.786374485994513\n",
      "=====================================\n"
     ]
    }
   ],
   "source": [
    "display_rules(association_results[:40])"
   ]
  },
  {
   "cell_type": "code",
   "execution_count": 28,
   "id": "fa06929b",
   "metadata": {},
   "outputs": [],
   "source": [
    "from collections import Counter\n",
    " \n",
    "counter = Counter(baskets[0])\n",
    "for i in baskets[1:]:\n",
    "    if i != 'nan':\n",
    "        counter.update(i)\n",
    " \n",
    "del counter['nan']\n",
    "mostCommon =counter.most_common(10)\n"
   ]
  },
  {
   "cell_type": "code",
   "execution_count": 29,
   "id": "07f4f7fb",
   "metadata": {
    "scrolled": true
   },
   "outputs": [
    {
     "data": {
      "text/plain": [
       "[('WHITE HANGING HEART T-LIGHT HOLDER', 1546),\n",
       " ('REGENCY CAKESTAND 3 TIER', 1444),\n",
       " ('JUMBO BAG RED RETROSPOT', 1384),\n",
       " ('PARTY BUNTING', 1092),\n",
       " ('LUNCH BAG RED RETROSPOT', 1074),\n",
       " ('SET OF 3 CAKE TINS PANTRY DESIGN', 999),\n",
       " ('ASSORTED COLOUR BIRD ORNAMENT', 924),\n",
       " ('LUNCH BAG  BLACK SKULL', 887),\n",
       " ('PACK OF 72 RETROSPOT CAKE CASES', 840),\n",
       " ('JAM MAKING SET WITH JARS', 827)]"
      ]
     },
     "execution_count": 29,
     "metadata": {},
     "output_type": "execute_result"
    }
   ],
   "source": [
    "mostCommon"
   ]
  },
  {
   "cell_type": "code",
   "execution_count": 30,
   "id": "11fd80fe",
   "metadata": {},
   "outputs": [],
   "source": [
    "item = [x[0] for x in mostCommon]\n",
    "item_number = [x[1] for x in mostCommon]"
   ]
  },
  {
   "cell_type": "code",
   "execution_count": 31,
   "id": "a0e8fb56",
   "metadata": {},
   "outputs": [
    {
     "data": {
      "text/plain": [
       "['WHITE HANGING HEART T-LIGHT HOLDER',\n",
       " 'REGENCY CAKESTAND 3 TIER',\n",
       " 'JUMBO BAG RED RETROSPOT',\n",
       " 'PARTY BUNTING',\n",
       " 'LUNCH BAG RED RETROSPOT',\n",
       " 'SET OF 3 CAKE TINS PANTRY DESIGN',\n",
       " 'ASSORTED COLOUR BIRD ORNAMENT',\n",
       " 'LUNCH BAG  BLACK SKULL',\n",
       " 'PACK OF 72 RETROSPOT CAKE CASES',\n",
       " 'JAM MAKING SET WITH JARS']"
      ]
     },
     "execution_count": 31,
     "metadata": {},
     "output_type": "execute_result"
    }
   ],
   "source": [
    "item"
   ]
  },
  {
   "cell_type": "markdown",
   "id": "05cfd621",
   "metadata": {},
   "source": [
    "\n",
    "How many of these items can you find in the rules you have just displayed? Are all the top 10 items\n",
    "included? Provide an explanation as to why these items may be missing/present in the rules.\n",
    "\n",
    "The most common items have the most sale in the shop.\n",
    "From the top 10 association rule, we can see that none of the most common items are in the top 10 of the association result.\n",
    "Meaning the frequent purchase of an item does not imply they are purchased in combination with other things.\n",
    "The seller can increase the sale of other products less commonly bought by putting them close to the shelves of the most frequently purchased or running promotions based on items most widely bought. Applying the principles above will significantly increase sales\n",
    "\n",
    "Another reason these products may be most common but not in top 10 association rule may be because in the shop area, the price for the products are the cheapest so customers tend to come in to buy them. Running promotions around these products while maintaining or reducing cost may also lead to more sales."
   ]
  },
  {
   "cell_type": "code",
   "execution_count": 32,
   "id": "febeef5f",
   "metadata": {},
   "outputs": [],
   "source": [
    "association_rules = apriori(baskets, min_support=0.015, min_confidence=0.7, \n",
    "                            min_lift=3, min_length=2)\n",
    "association_results = list(association_rules)\n"
   ]
  },
  {
   "cell_type": "code",
   "execution_count": 33,
   "id": "0cb4ce14",
   "metadata": {},
   "outputs": [
    {
     "name": "stdout",
     "output_type": "stream",
     "text": [
      "Rules generated:  4\n"
     ]
    }
   ],
   "source": [
    "print('Rules generated: ', len(association_results))"
   ]
  },
  {
   "cell_type": "code",
   "execution_count": 34,
   "id": "eb46c0a3",
   "metadata": {},
   "outputs": [
    {
     "name": "stdout",
     "output_type": "stream",
     "text": [
      "RelationRecord(items=frozenset({'GREEN REGENCY TEACUP AND SAUCER', 'PINK REGENCY TEACUP AND SAUCER'}), support=0.02069863939013799, ordered_statistics=[OrderedStatistic(items_base=frozenset({'PINK REGENCY TEACUP AND SAUCER'}), items_add=frozenset({'GREEN REGENCY TEACUP AND SAUCER'}), confidence=0.7886029411764706, lift=22.147133548541365)])\n"
     ]
    }
   ],
   "source": [
    "print(association_results[0])"
   ]
  },
  {
   "cell_type": "code",
   "execution_count": 35,
   "id": "0546d43a",
   "metadata": {},
   "outputs": [
    {
     "name": "stdout",
     "output_type": "stream",
     "text": [
      "RelationRecord(items=frozenset({'GREEN REGENCY TEACUP AND SAUCER', 'ROSES REGENCY TEACUP AND SAUCER'}), support=0.025523497056836823, ordered_statistics=[OrderedStatistic(items_base=frozenset({'GREEN REGENCY TEACUP AND SAUCER'}), items_add=frozenset({'ROSES REGENCY TEACUP AND SAUCER'}), confidence=0.7168021680216802, lift=18.593794411035475)])\n"
     ]
    }
   ],
   "source": [
    "print(association_results[1])"
   ]
  },
  {
   "cell_type": "code",
   "execution_count": 36,
   "id": "21e91662",
   "metadata": {},
   "outputs": [
    {
     "name": "stdout",
     "output_type": "stream",
     "text": [
      "RelationRecord(items=frozenset({'GREEN REGENCY TEACUP AND SAUCER', 'PINK REGENCY TEACUP AND SAUCER', 'ROSES REGENCY TEACUP AND SAUCER'}), support=0.01785197336678568, ordered_statistics=[OrderedStatistic(items_base=frozenset({'GREEN REGENCY TEACUP AND SAUCER', 'PINK REGENCY TEACUP AND SAUCER'}), items_add=frozenset({'ROSES REGENCY TEACUP AND SAUCER'}), confidence=0.8624708624708625, lift=22.37242940622165), OrderedStatistic(items_base=frozenset({'PINK REGENCY TEACUP AND SAUCER', 'ROSES REGENCY TEACUP AND SAUCER'}), items_add=frozenset({'GREEN REGENCY TEACUP AND SAUCER'}), confidence=0.8830548926014319, lift=24.79972317622937)])\n"
     ]
    }
   ],
   "source": [
    "print(association_results[3])"
   ]
  },
  {
   "cell_type": "code",
   "execution_count": 37,
   "id": "85cf339f",
   "metadata": {},
   "outputs": [],
   "source": [
    "def display_rules(association_results):\n",
    "    for item in association_results:\n",
    "        pair = item[0] \n",
    "        items = [x for x in pair]\n",
    "        print(\"Rule: \" + items[0] + \" -> \" + items[1])\n",
    "        print(\"Support: \" + str(item[1]))\n",
    "        print(\"Confidence: \" + str(item[2][0][2]))\n",
    "        print(\"Lift: \" + str(item[2][0][3]))\n",
    "        print(\"=====================================\")"
   ]
  },
  {
   "cell_type": "code",
   "execution_count": 38,
   "id": "401fc1c5",
   "metadata": {},
   "outputs": [
    {
     "name": "stdout",
     "output_type": "stream",
     "text": [
      "Rule: GREEN REGENCY TEACUP AND SAUCER -> PINK REGENCY TEACUP AND SAUCER\n",
      "Support: 0.02069863939013799\n",
      "Confidence: 0.7886029411764706\n",
      "Lift: 22.147133548541365\n",
      "=====================================\n",
      "Rule: GREEN REGENCY TEACUP AND SAUCER -> ROSES REGENCY TEACUP AND SAUCER\n",
      "Support: 0.025523497056836823\n",
      "Confidence: 0.7168021680216802\n",
      "Lift: 18.593794411035475\n",
      "=====================================\n",
      "Rule: PINK REGENCY TEACUP AND SAUCER -> ROSES REGENCY TEACUP AND SAUCER\n",
      "Support: 0.020216153623468108\n",
      "Confidence: 0.7702205882352942\n",
      "Lift: 19.979464219980862\n",
      "=====================================\n",
      "Rule: GREEN REGENCY TEACUP AND SAUCER -> PINK REGENCY TEACUP AND SAUCER\n",
      "Support: 0.01785197336678568\n",
      "Confidence: 0.8624708624708625\n",
      "Lift: 22.37242940622165\n",
      "=====================================\n"
     ]
    }
   ],
   "source": [
    " display_rules(association_results[:4])"
   ]
  },
  {
   "cell_type": "markdown",
   "id": "7304a655",
   "metadata": {},
   "source": [
    "Question 5b"
   ]
  },
  {
   "cell_type": "code",
   "execution_count": 39,
   "id": "3b74ab6e",
   "metadata": {},
   "outputs": [],
   "source": [
    "association_rules = apriori(baskets, min_support=0.009, min_confidence=0.5, \n",
    "                            min_lift=3, min_length=2)\n",
    "association_results = list(association_rules)"
   ]
  },
  {
   "cell_type": "code",
   "execution_count": 40,
   "id": "588ee7ad",
   "metadata": {},
   "outputs": [
    {
     "name": "stdout",
     "output_type": "stream",
     "text": [
      "Rules generated:  47\n"
     ]
    }
   ],
   "source": [
    "print('Rules generated: ', len(association_results))"
   ]
  },
  {
   "cell_type": "code",
   "execution_count": 41,
   "id": "a52d4025",
   "metadata": {},
   "outputs": [
    {
     "name": "stdout",
     "output_type": "stream",
     "text": [
      "RelationRecord(items=frozenset({'ALARM CLOCK BAKELIKE IVORY', 'ALARM CLOCK BAKELIKE GREEN'}), support=0.011193669786741292, ordered_statistics=[OrderedStatistic(items_base=frozenset({'ALARM CLOCK BAKELIKE IVORY'}), items_add=frozenset({'ALARM CLOCK BAKELIKE GREEN'}), confidence=0.5550239234449761, lift=17.779638079320826)])\n"
     ]
    }
   ],
   "source": [
    "print(association_results[0])"
   ]
  },
  {
   "cell_type": "code",
   "execution_count": 42,
   "id": "9e80ab2b",
   "metadata": {},
   "outputs": [],
   "source": [
    "def display_rules(association_results):\n",
    "    for item in association_results:\n",
    "        pair = item[0] \n",
    "        items = [x for x in pair]\n",
    "        print(\"Rule: \" + items[0] + \" -> \" + items[1])\n",
    "        print(\"Support: \" + str(item[1]))\n",
    "        print(\"Confidence: \" + str(item[2][0][2]))\n",
    "        print(\"Lift: \" + str(item[2][0][3]))\n",
    "        print(\"=====================================\")"
   ]
  },
  {
   "cell_type": "code",
   "execution_count": 43,
   "id": "8e9526d4",
   "metadata": {},
   "outputs": [
    {
     "name": "stdout",
     "output_type": "stream",
     "text": [
      "Rule: ALARM CLOCK BAKELIKE IVORY -> ALARM CLOCK BAKELIKE GREEN\n",
      "Support: 0.011193669786741292\n",
      "Confidence: 0.5550239234449761\n",
      "Lift: 17.779638079320826\n",
      "=====================================\n",
      "Rule: ALARM CLOCK BAKELIKE RED -> ALARM CLOCK BAKELIKE GREEN\n",
      "Support: 0.01934767924346232\n",
      "Confidence: 0.6197836166924267\n",
      "Lift: 18.016318709070458\n",
      "=====================================\n",
      "Rule: ALARM CLOCK BAKELIKE IVORY -> ALARM CLOCK BAKELIKE RED\n",
      "Support: 0.01211039274341407\n",
      "Confidence: 0.6004784688995216\n",
      "Lift: 17.455142701839392\n",
      "=====================================\n",
      "Rule: ALARM CLOCK BAKELIKE RED -> ALARM CLOCK BAKELIKE ORANGE\n",
      "Support: 0.009553218180063688\n",
      "Confidence: 0.6513157894736843\n",
      "Lift: 18.932918727393524\n",
      "=====================================\n",
      "Rule: ALARM CLOCK BAKELIKE PINK -> ALARM CLOCK BAKELIKE RED\n",
      "Support: 0.01500530734343337\n",
      "Confidence: 0.575925925925926\n",
      "Lift: 16.741431613942133\n",
      "=====================================\n",
      "Rule: BAKING SET SPACEBOY DESIGN -> BAKING SET 9 PIECE RETROSPOT\n",
      "Support: 0.009939206793399595\n",
      "Confidence: 0.6261398176291794\n",
      "Lift: 20.56636110963926\n",
      "=====================================\n",
      "Rule: RED  HARMONICA IN BOX -> BLUE HARMONICA IN BOX\n",
      "Support: 0.010807681173405385\n",
      "Confidence: 0.5450121654501217\n",
      "Lift: 24.99097818831686\n",
      "=====================================\n",
      "Rule: CHARLOTTE BAG SUKI DESIGN -> CHARLOTTE BAG PINK POLKADOT\n",
      "Support: 0.01211039274341407\n",
      "Confidence: 0.535181236673774\n",
      "Lift: 19.391899145630493\n",
      "=====================================\n",
      "Rule: CHRISTMAS CRAFT TREE TOP ANGEL -> CHRISTMAS CRAFT LITTLE FRIENDS\n",
      "Support: 0.009118980990060793\n",
      "Confidence: 0.504\n",
      "Lift: 33.8055145631068\n",
      "=====================================\n",
      "Rule: SPACEBOY LUNCH BOX -> DOLLY GIRL LUNCH BOX\n",
      "Support: 0.017417736176782786\n",
      "Confidence: 0.6311188811188811\n",
      "Lift: 21.54953859978572\n",
      "=====================================\n"
     ]
    }
   ],
   "source": [
    "display_rules(association_results[:10])"
   ]
  },
  {
   "cell_type": "code",
   "execution_count": 44,
   "id": "4ada0672",
   "metadata": {},
   "outputs": [],
   "source": [
    "association_rules = apriori(baskets, min_support=0.015, min_confidence=0.5, \n",
    "                            min_lift=9, min_length=2)\n",
    "association_results = list(association_rules)"
   ]
  },
  {
   "cell_type": "code",
   "execution_count": 45,
   "id": "d0c8d670",
   "metadata": {},
   "outputs": [
    {
     "name": "stdout",
     "output_type": "stream",
     "text": [
      "Rules generated:  12\n"
     ]
    }
   ],
   "source": [
    "print('Rules generated: ', len(association_results))"
   ]
  },
  {
   "cell_type": "code",
   "execution_count": 46,
   "id": "fe8d2394",
   "metadata": {},
   "outputs": [
    {
     "name": "stdout",
     "output_type": "stream",
     "text": [
      "RelationRecord(items=frozenset({'ALARM CLOCK BAKELIKE RED', 'ALARM CLOCK BAKELIKE GREEN'}), support=0.01934767924346232, ordered_statistics=[OrderedStatistic(items_base=frozenset({'ALARM CLOCK BAKELIKE GREEN'}), items_add=frozenset({'ALARM CLOCK BAKELIKE RED'}), confidence=0.6197836166924267, lift=18.016318709070458), OrderedStatistic(items_base=frozenset({'ALARM CLOCK BAKELIKE RED'}), items_add=frozenset({'ALARM CLOCK BAKELIKE GREEN'}), confidence=0.5624123422159889, lift=18.016318709070458)])\n"
     ]
    }
   ],
   "source": [
    "print(association_results[0])"
   ]
  },
  {
   "cell_type": "code",
   "execution_count": 47,
   "id": "88a3bac9",
   "metadata": {},
   "outputs": [],
   "source": [
    "def display_rules(association_results):\n",
    "    for item in association_results:\n",
    "        pair = item[0] \n",
    "        items = [x for x in pair]\n",
    "        print(\"Rule: \" + items[0] + \" -> \" + items[1])\n",
    "        print(\"Support: \" + str(item[1]))\n",
    "        print(\"Confidence: \" + str(item[2][0][2]))\n",
    "        print(\"Lift: \" + str(item[2][0][3]))\n",
    "        print(\"=====================================\")"
   ]
  },
  {
   "cell_type": "code",
   "execution_count": 48,
   "id": "0f7618e3",
   "metadata": {},
   "outputs": [
    {
     "name": "stdout",
     "output_type": "stream",
     "text": [
      "Rule: ALARM CLOCK BAKELIKE RED -> ALARM CLOCK BAKELIKE GREEN\n",
      "Support: 0.01934767924346232\n",
      "Confidence: 0.6197836166924267\n",
      "Lift: 18.016318709070458\n",
      "=====================================\n",
      "Rule: ALARM CLOCK BAKELIKE PINK -> ALARM CLOCK BAKELIKE RED\n",
      "Support: 0.01500530734343337\n",
      "Confidence: 0.575925925925926\n",
      "Lift: 16.741431613942133\n",
      "=====================================\n",
      "Rule: SPACEBOY LUNCH BOX -> DOLLY GIRL LUNCH BOX\n",
      "Support: 0.017417736176782786\n",
      "Confidence: 0.6311188811188811\n",
      "Lift: 21.54953859978572\n",
      "=====================================\n",
      "Rule: GARDENERS KNEELING PAD CUP OF TEA -> GARDENERS KNEELING PAD KEEP CALM\n",
      "Support: 0.01558429026343723\n",
      "Confidence: 0.6901709401709402\n",
      "Lift: 24.578149322994683\n",
      "=====================================\n",
      "Rule: GREEN REGENCY TEACUP AND SAUCER -> PINK REGENCY TEACUP AND SAUCER\n",
      "Support: 0.02069863939013799\n",
      "Confidence: 0.58130081300813\n",
      "Lift: 22.147133548541365\n",
      "=====================================\n",
      "Rule: GREEN REGENCY TEACUP AND SAUCER -> ROSES REGENCY TEACUP AND SAUCER\n",
      "Support: 0.025523497056836823\n",
      "Confidence: 0.7168021680216802\n",
      "Lift: 18.593794411035475\n",
      "=====================================\n",
      "Rule: JUMBO BAG RED RETROSPOT -> JUMBO  BAG BAROQUE BLACK WHITE\n",
      "Support: 0.016163273183441088\n",
      "Confidence: 0.6025179856115108\n",
      "Lift: 9.075427158273381\n",
      "=====================================\n",
      "Rule: JUMBO BAG RED RETROSPOT -> JUMBO BAG STRAWBERRY\n",
      "Support: 0.015150053073434333\n",
      "Confidence: 0.5992366412213741\n",
      "Lift: 9.026001908396948\n",
      "=====================================\n",
      "Rule: PINK REGENCY TEACUP AND SAUCER -> ROSES REGENCY TEACUP AND SAUCER\n",
      "Support: 0.020216153623468108\n",
      "Confidence: 0.7702205882352942\n",
      "Lift: 19.979464219980862\n",
      "=====================================\n",
      "Rule: STRAWBERRY CHARLOTTE BAG -> RED RETROSPOT CHARLOTTE BAG\n",
      "Support: 0.016018527453440123\n",
      "Confidence: 0.6887966804979253\n",
      "Lift: 19.44959128065395\n",
      "=====================================\n"
     ]
    }
   ],
   "source": [
    "display_rules(association_results[:10])"
   ]
  },
  {
   "cell_type": "markdown",
   "id": "bd1bde59",
   "metadata": {},
   "source": [
    "Discuss how the quality of the rules differ in each setting.\n",
    "\n",
    "Setting 1: Min Support = 0.015, Min Confidence = 0.7, Min Lift = 3, rules generated = 4\n",
    "\n",
    "Setting 2: Min Support = 0.009, Min Confidence = 0.5, Min Lift = 3, rules generated = 47\n",
    "\n",
    "Setting 3: Min Support = 0.015, Min Confidence = 0.5, Min Lift = 9, rules generated = 12\n",
    "\n",
    "Setting high parameters in aprori limits the size, number of rules, and strength of rules generated. This largely depends on what the organization wants and the reasons behind the algorithm. If more vital rules are the focus, increasing the value of confidence will give the best result like in setting one, and reducing values give more rules like in settings two, but this has its limitations. \n",
    "\n",
    "For the first settings, the rules are strong, but some are repeated, making them irrelevant, thus reducing the quality of rules generated using the first set. The same applies to the 3rd setting, but it's an improvement on the first. The goal of association rule mining is to end up with rules that are intuitive.\n",
    "\n",
    "Generally, Rather than using the thresholds to reduce the rules down to a smaller set, it is better for a more extensive set of rules to be returned so that there is a greater chance of generating relevant rules like in settings 2. Alternatively, we can use visualization techniques to inspect the set of rules returned and identify those likely to be valid.\n",
    "\n",
    "For this store, i would recommend settings 2.\n",
    "\n",
    "\n",
    "\n",
    "\n"
   ]
  },
  {
   "cell_type": "markdown",
   "id": "e3aa0798",
   "metadata": {},
   "source": [
    "Filter the transactions from the day of the week or the month and generate association rules again. Discuss\n",
    "whether the rules change in different days or different months."
   ]
  },
  {
   "cell_type": "markdown",
   "id": "33ce2fe5",
   "metadata": {},
   "source": [
    "Filtering data by months of the year"
   ]
  },
  {
   "cell_type": "code",
   "execution_count": 49,
   "id": "d4186baf",
   "metadata": {},
   "outputs": [],
   "source": [
    "data[\"Month\"]= data['Date'].dt.month"
   ]
  },
  {
   "cell_type": "code",
   "execution_count": 50,
   "id": "b71cb0a2",
   "metadata": {},
   "outputs": [
    {
     "data": {
      "image/png": "[encoded data removed]",
      "text/plain": [
       "<Figure size 640x480 with 1 Axes>"
      ]
     },
     "metadata": {},
     "output_type": "display_data"
    }
   ],
   "source": [
    "Month_hist = data.hist(column=\"Month\", bins=12, grid=False)\n",
    " \n",
    "for ax in Month_hist.flatten():\n",
    "    ax.set_xlabel(\"Month\")\n",
    "    ax.set_ylabel(\"Frequency\")"
   ]
  },
  {
   "cell_type": "markdown",
   "id": "e1bd7a74",
   "metadata": {},
   "source": [
    "Running comparison for 3 months January, February and November"
   ]
  },
  {
   "cell_type": "code",
   "execution_count": 51,
   "id": "624ce2d2",
   "metadata": {},
   "outputs": [],
   "source": [
    "#January\n",
    "month_jan= data.loc[data['Month']==1]"
   ]
  },
  {
   "cell_type": "code",
   "execution_count": 52,
   "id": "26cfb302",
   "metadata": {},
   "outputs": [],
   "source": [
    "#February\n",
    "month_feb= data.loc[data['Month']==2]"
   ]
  },
  {
   "cell_type": "code",
   "execution_count": 53,
   "id": "ae2697cb",
   "metadata": {},
   "outputs": [],
   "source": [
    "#November\n",
    "month_nov= data.loc[data['Month']==11]"
   ]
  },
  {
   "cell_type": "code",
   "execution_count": 54,
   "id": "2fbe8f51",
   "metadata": {},
   "outputs": [
    {
     "data": {
      "text/html": [
       "<div>\n",
       "<style scoped>\n",
       "    .dataframe tbody tr th:only-of-type {\n",
       "        vertical-align: middle;\n",
       "    }\n",
       "\n",
       "    .dataframe tbody tr th {\n",
       "        vertical-align: top;\n",
       "    }\n",
       "\n",
       "    .dataframe thead th {\n",
       "        text-align: right;\n",
       "    }\n",
       "</style>\n",
       "<table border=\"1\" class=\"dataframe\">\n",
       "  <thead>\n",
       "    <tr style=\"text-align: right;\">\n",
       "      <th></th>\n",
       "      <th>transaction_ID</th>\n",
       "      <th>Date</th>\n",
       "      <th>Time</th>\n",
       "      <th>item_0</th>\n",
       "      <th>item_1</th>\n",
       "      <th>item_2</th>\n",
       "      <th>item_3</th>\n",
       "      <th>item_4</th>\n",
       "      <th>item_5</th>\n",
       "      <th>item_6</th>\n",
       "      <th>...</th>\n",
       "      <th>item_33</th>\n",
       "      <th>item_34</th>\n",
       "      <th>item_35</th>\n",
       "      <th>item_36</th>\n",
       "      <th>item_37</th>\n",
       "      <th>item_38</th>\n",
       "      <th>item_39</th>\n",
       "      <th>item_40</th>\n",
       "      <th>Hour</th>\n",
       "      <th>Month</th>\n",
       "    </tr>\n",
       "  </thead>\n",
       "  <tbody>\n",
       "    <tr>\n",
       "      <th>27546</th>\n",
       "      <td>575760</td>\n",
       "      <td>2011-11-11</td>\n",
       "      <td>10:50</td>\n",
       "      <td>LUNCH BAG PAISLEY PARK</td>\n",
       "      <td>ASSORTED COLOUR BIRD ORNAMENT</td>\n",
       "      <td>KNITTED UNION FLAG HOT WATER BOTTLE</td>\n",
       "      <td>WHITE SKULL HOT WATER BOTTLE</td>\n",
       "      <td>LOVE HOT WATER BOTTLE</td>\n",
       "      <td>HOT WATER BOTTLE KEEP CALM</td>\n",
       "      <td>LUNCH BAG RED VINTAGE DOILY</td>\n",
       "      <td>...</td>\n",
       "      <td>SET 36 COLOURING PENCILS DOILY</td>\n",
       "      <td>BAKING MOULD HEART WHITE CHOCOLATE</td>\n",
       "      <td>3 PIECE SPACEBOY COOKIE CUTTER SET</td>\n",
       "      <td>STRAWBERRY RAFFIA FOOD COVER</td>\n",
       "      <td>RED FLOWER CROCHET FOOD COVER</td>\n",
       "      <td>STRAWBERRY RAFFIA FOOD COVER</td>\n",
       "      <td>PINK FLOWER CROCHET FOOD COVER</td>\n",
       "      <td>PACK OF 60 MUSHROOM CAKE CASES</td>\n",
       "      <td>10</td>\n",
       "      <td>11</td>\n",
       "    </tr>\n",
       "    <tr>\n",
       "      <th>16107</th>\n",
       "      <td>C559663</td>\n",
       "      <td>2011-11-07</td>\n",
       "      <td>13:33</td>\n",
       "      <td>STRAWBERRY FAIRY CAKE TEAPOT</td>\n",
       "      <td>IVORY DINER WALL CLOCK</td>\n",
       "      <td>RED RETROSPOT TEA CUP AND SAUCER</td>\n",
       "      <td>NaN</td>\n",
       "      <td>NaN</td>\n",
       "      <td>NaN</td>\n",
       "      <td>NaN</td>\n",
       "      <td>...</td>\n",
       "      <td>NaN</td>\n",
       "      <td>NaN</td>\n",
       "      <td>NaN</td>\n",
       "      <td>NaN</td>\n",
       "      <td>NaN</td>\n",
       "      <td>NaN</td>\n",
       "      <td>NaN</td>\n",
       "      <td>NaN</td>\n",
       "      <td>13</td>\n",
       "      <td>11</td>\n",
       "    </tr>\n",
       "    <tr>\n",
       "      <th>27684</th>\n",
       "      <td>575934</td>\n",
       "      <td>2011-11-13</td>\n",
       "      <td>11:15</td>\n",
       "      <td>WHITE BAMBOO RIBS LAMPSHADE</td>\n",
       "      <td>BUNDLE OF 3 ALPHABET EXERCISE BOOKS</td>\n",
       "      <td>NaN</td>\n",
       "      <td>NaN</td>\n",
       "      <td>NaN</td>\n",
       "      <td>NaN</td>\n",
       "      <td>NaN</td>\n",
       "      <td>...</td>\n",
       "      <td>NaN</td>\n",
       "      <td>NaN</td>\n",
       "      <td>NaN</td>\n",
       "      <td>NaN</td>\n",
       "      <td>NaN</td>\n",
       "      <td>NaN</td>\n",
       "      <td>NaN</td>\n",
       "      <td>NaN</td>\n",
       "      <td>11</td>\n",
       "      <td>11</td>\n",
       "    </tr>\n",
       "    <tr>\n",
       "      <th>29362</th>\n",
       "      <td>578101</td>\n",
       "      <td>2011-11-23</td>\n",
       "      <td>08:39</td>\n",
       "      <td>ANTIQUE SILVER T-LIGHT GLASS</td>\n",
       "      <td>GIN AND TONIC MUG</td>\n",
       "      <td>RECIPE BOX PANTRY YELLOW DESIGN</td>\n",
       "      <td>NaN</td>\n",
       "      <td>NaN</td>\n",
       "      <td>NaN</td>\n",
       "      <td>NaN</td>\n",
       "      <td>...</td>\n",
       "      <td>NaN</td>\n",
       "      <td>NaN</td>\n",
       "      <td>NaN</td>\n",
       "      <td>NaN</td>\n",
       "      <td>NaN</td>\n",
       "      <td>NaN</td>\n",
       "      <td>NaN</td>\n",
       "      <td>NaN</td>\n",
       "      <td>8</td>\n",
       "      <td>11</td>\n",
       "    </tr>\n",
       "    <tr>\n",
       "      <th>16087</th>\n",
       "      <td>559629</td>\n",
       "      <td>2011-11-07</td>\n",
       "      <td>11:58</td>\n",
       "      <td>COFFEE MUG DOG + BALL DESIGN</td>\n",
       "      <td>DOG BOWL CHASING BALL DESIGN</td>\n",
       "      <td>ILLUSTRATED CAT BOWL</td>\n",
       "      <td>CHILDRENS CUTLERY POLKADOT BLUE</td>\n",
       "      <td>ENAMEL MEASURING JUG CREAM</td>\n",
       "      <td>CLEAR DRAWER KNOB ACRYLIC EDWARDIAN</td>\n",
       "      <td>HEART OF WICKER LARGE</td>\n",
       "      <td>...</td>\n",
       "      <td>NaN</td>\n",
       "      <td>NaN</td>\n",
       "      <td>NaN</td>\n",
       "      <td>NaN</td>\n",
       "      <td>NaN</td>\n",
       "      <td>NaN</td>\n",
       "      <td>NaN</td>\n",
       "      <td>NaN</td>\n",
       "      <td>11</td>\n",
       "      <td>11</td>\n",
       "    </tr>\n",
       "  </tbody>\n",
       "</table>\n",
       "<p>5 rows × 46 columns</p>\n",
       "</div>"
      ],
      "text/plain": [
       "      transaction_ID       Date   Time                        item_0  \\\n",
       "27546         575760 2011-11-11  10:50        LUNCH BAG PAISLEY PARK   \n",
       "16107        C559663 2011-11-07  13:33  STRAWBERRY FAIRY CAKE TEAPOT   \n",
       "27684         575934 2011-11-13  11:15   WHITE BAMBOO RIBS LAMPSHADE   \n",
       "29362         578101 2011-11-23  08:39  ANTIQUE SILVER T-LIGHT GLASS   \n",
       "16087         559629 2011-11-07  11:58  COFFEE MUG DOG + BALL DESIGN   \n",
       "\n",
       "                                    item_1  \\\n",
       "27546        ASSORTED COLOUR BIRD ORNAMENT   \n",
       "16107               IVORY DINER WALL CLOCK   \n",
       "27684  BUNDLE OF 3 ALPHABET EXERCISE BOOKS   \n",
       "29362                    GIN AND TONIC MUG   \n",
       "16087         DOG BOWL CHASING BALL DESIGN   \n",
       "\n",
       "                                    item_2                           item_3  \\\n",
       "27546  KNITTED UNION FLAG HOT WATER BOTTLE     WHITE SKULL HOT WATER BOTTLE   \n",
       "16107     RED RETROSPOT TEA CUP AND SAUCER                              NaN   \n",
       "27684                                  NaN                              NaN   \n",
       "29362      RECIPE BOX PANTRY YELLOW DESIGN                              NaN   \n",
       "16087                 ILLUSTRATED CAT BOWL  CHILDRENS CUTLERY POLKADOT BLUE   \n",
       "\n",
       "                           item_4                               item_5  \\\n",
       "27546       LOVE HOT WATER BOTTLE           HOT WATER BOTTLE KEEP CALM   \n",
       "16107                         NaN                                  NaN   \n",
       "27684                         NaN                                  NaN   \n",
       "29362                         NaN                                  NaN   \n",
       "16087  ENAMEL MEASURING JUG CREAM  CLEAR DRAWER KNOB ACRYLIC EDWARDIAN   \n",
       "\n",
       "                            item_6  ...                         item_33  \\\n",
       "27546  LUNCH BAG RED VINTAGE DOILY  ...  SET 36 COLOURING PENCILS DOILY   \n",
       "16107                          NaN  ...                             NaN   \n",
       "27684                          NaN  ...                             NaN   \n",
       "29362                          NaN  ...                             NaN   \n",
       "16087        HEART OF WICKER LARGE  ...                             NaN   \n",
       "\n",
       "                                  item_34                             item_35  \\\n",
       "27546  BAKING MOULD HEART WHITE CHOCOLATE  3 PIECE SPACEBOY COOKIE CUTTER SET   \n",
       "16107                                 NaN                                 NaN   \n",
       "27684                                 NaN                                 NaN   \n",
       "29362                                 NaN                                 NaN   \n",
       "16087                                 NaN                                 NaN   \n",
       "\n",
       "                            item_36                        item_37  \\\n",
       "27546  STRAWBERRY RAFFIA FOOD COVER  RED FLOWER CROCHET FOOD COVER   \n",
       "16107                           NaN                            NaN   \n",
       "27684                           NaN                            NaN   \n",
       "29362                           NaN                            NaN   \n",
       "16087                           NaN                            NaN   \n",
       "\n",
       "                            item_38                         item_39  \\\n",
       "27546  STRAWBERRY RAFFIA FOOD COVER  PINK FLOWER CROCHET FOOD COVER   \n",
       "16107                           NaN                             NaN   \n",
       "27684                           NaN                             NaN   \n",
       "29362                           NaN                             NaN   \n",
       "16087                           NaN                             NaN   \n",
       "\n",
       "                              item_40 Hour Month  \n",
       "27546  PACK OF 60 MUSHROOM CAKE CASES   10    11  \n",
       "16107                             NaN   13    11  \n",
       "27684                             NaN   11    11  \n",
       "29362                             NaN    8    11  \n",
       "16087                             NaN   11    11  \n",
       "\n",
       "[5 rows x 46 columns]"
      ]
     },
     "execution_count": 54,
     "metadata": {},
     "output_type": "execute_result"
    }
   ],
   "source": [
    "month_nov.head()"
   ]
  },
  {
   "cell_type": "code",
   "execution_count": 55,
   "id": "1784abbb",
   "metadata": {},
   "outputs": [],
   "source": [
    "items_df1=month_jan[month_jan.columns[3:44]]"
   ]
  },
  {
   "cell_type": "code",
   "execution_count": 56,
   "id": "6e092004",
   "metadata": {},
   "outputs": [],
   "source": [
    "items_df2=month_feb[month_feb.columns[3:44]]"
   ]
  },
  {
   "cell_type": "code",
   "execution_count": 57,
   "id": "52751065",
   "metadata": {},
   "outputs": [],
   "source": [
    "items_df11=month_nov[month_nov.columns[3:44]]"
   ]
  },
  {
   "cell_type": "code",
   "execution_count": 58,
   "id": "448ea4ce",
   "metadata": {},
   "outputs": [],
   "source": [
    "baskets1 = items_df1.T.apply(lambda x: x.dropna().tolist()).tolist()"
   ]
  },
  {
   "cell_type": "code",
   "execution_count": 59,
   "id": "7b2be645",
   "metadata": {},
   "outputs": [],
   "source": [
    "baskets2 = items_df2.T.apply(lambda x: x.dropna().tolist()).tolist()"
   ]
  },
  {
   "cell_type": "code",
   "execution_count": 60,
   "id": "aaa76f22",
   "metadata": {},
   "outputs": [],
   "source": [
    "baskets11 = items_df11.T.apply(lambda x: x.dropna().tolist()).tolist()"
   ]
  },
  {
   "cell_type": "code",
   "execution_count": 61,
   "id": "6615fe67",
   "metadata": {},
   "outputs": [
    {
     "name": "stdout",
     "output_type": "stream",
     "text": [
      "1533\n"
     ]
    }
   ],
   "source": [
    "print(len(baskets1))"
   ]
  },
  {
   "cell_type": "code",
   "execution_count": 62,
   "id": "4f2fc934",
   "metadata": {},
   "outputs": [
    {
     "name": "stdout",
     "output_type": "stream",
     "text": [
      "1251\n"
     ]
    }
   ],
   "source": [
    " print(len(baskets2))"
   ]
  },
  {
   "cell_type": "code",
   "execution_count": 63,
   "id": "53d561e7",
   "metadata": {},
   "outputs": [
    {
     "name": "stdout",
     "output_type": "stream",
     "text": [
      "2573\n"
     ]
    }
   ],
   "source": [
    "print(len(baskets11))"
   ]
  },
  {
   "cell_type": "code",
   "execution_count": 64,
   "id": "cfe32673",
   "metadata": {},
   "outputs": [
    {
     "name": "stdout",
     "output_type": "stream",
     "text": [
      "['CLASSIC CHROME BICYCLE BELL', 'CLASSIC BICYCLE CLIPS', 'BICYCLE PUNCTURE REPAIR KIT', 'RABBIT NIGHT LIGHT']\n",
      "['SET/10 BLUE POLKADOT PARTY CANDLES', 'SET/10 PINK POLKADOT PARTY CANDLES', 'PAINT YOUR OWN CANVAS SET', 'WORLD WAR 2 GLIDERS ASSTD DESIGNS', 'PACK OF 12 COLOURED PENCILS', 'SET OF 6 CAKE CHOPSTICKS', '36 FOIL HEART CAKE CASES', 'PACK OF 12 TRADITIONAL CRAYONS', 'PACK OF 12 COLOURED PENCILS', 'ALPHABET STENCIL CRAFT', 'PINK  POLKADOT PLATE', 'GREEN POLKADOT PLATE', 'BLUE POLKADOT PLATE', 'PLASTERS IN TIN VINTAGE PAISLEY', 'GREEN POLKADOT BOWL', 'PINK POLKADOT BOWL', 'BLUE POLKADOT BOWL', 'BLUE 3 PIECE POLKADOT CUTLERY SET', 'PINK 3 PIECE POLKADOT CUTLERY SET', 'GREEN 3 PIECE POLKADOT CUTLERY SET', 'SET/4 SKULL BADGES', 'SET/4 BADGES CUTE CREATURES', 'SKULLS  WATER TRANSFER TATTOOS', 'DINOSAUR KEYRINGS ASSORTED', 'PLASTERS IN TIN SKULLS', 'PLASTERS IN TIN SPACEBOY', 'GLITTER BUTTERFLY CLIPS', 'BLUE PAISLEY POCKET BOOK', 'REX CASH+CARRY JUMBO SHOPPER']\n",
      "['WATERING CAN GREEN DINOSAUR', 'SET OF 9 BLACK SKULL BALLOONS', 'BALLOON ART MAKE YOUR OWN FLOWERS', '6 ROCKET BALLOONS', 'PENCIL CASE LIFE IS BEAUTIFUL', 'PIN CUSHION BABUSHKA PINK', 'PIN CUSHION BABUSHKA BLUE', 'MEASURING TAPE BABUSHKA PINK', 'MEASURING TAPE BABUSHKA BLUE', 'NATURAL SLATE HEART CHALKBOARD', 'GUMBALL COAT RACK', 'HEART OF WICKER SMALL', 'HEART OF WICKER LARGE', 'TV DINNER TRAY VINTAGE PAISLEY', 'WATERING CAN GARDEN MARKER', 'BIRDHOUSE GARDEN MARKER', 'BLACK TEA TOWEL CLASSIC DESIGN', 'PICNIC BASKET WICKER LARGE', 'PICNIC BASKET WICKER SMALL', 'PLASTERS IN TIN WOODLAND ANIMALS', 'CLOTHES PEGS RETROSPOT PACK 24', 'FELTCRAFT HAIRBANDS PINK AND WHITE', 'FELTCRAFT CUSHION BUTTERFLY', 'FELTCRAFT HAIRBAND RED AND BLUE', 'PACK OF 12 LONDON TISSUES', 'IVORY KITCHEN SCALES', 'PICNIC BOXES SET OF 3 RETROSPOT', 'DOLLY GIRL LUNCH BOX', 'SET OF 4 NAPKIN CHARMS CROWNS', 'SET OF 4 NAPKIN CHARMS 3 KEYS', 'SET OF 4 NAPKIN CHARMS INSTRUMENT', 'SET OF 4 NAPKIN CHARMS LEAVES', 'RECIPE BOX PANTRY YELLOW DESIGN', 'FRENCH BATHROOM SIGN BLUE METAL', 'WICKER STAR', 'GREEN REGENCY TEACUP AND SAUCER', 'ROSES REGENCY TEACUP AND SAUCER', 'CARD DOG AND BALL', 'CARD CAT AND TREE', 'GUMBALL MONOCHROME COAT RACK', 'SET OF 3 CAKE TINS PANTRY DESIGN']\n",
      "['BOHEMIAN COLLAGE STATIONERY SET', 'VINTAGE PAISLEY STATIONERY SET', 'FLORAL FOLK STATIONERY SET', 'RAINY LADIES BIRTHDAY CARD', 'PENNY FARTHING BIRTHDAY CARD', 'ROBOT BIRTHDAY CARD', 'PAPER BUNTING RETROSPOT', 'PIZZA PLATE IN BOX', 'PINK LOVE HEART SHAPE CUP', 'HEART DECORATION RUSTIC HANGING', 'DIAMANTE HEART SHAPED WALL MIRROR', 'PHOTO CUBE', 'VICTORIAN GLASS HANGING T-LIGHT', 'LOVEBIRD HANGING DECORATION WHITE', 'HEART IVORY TRELLIS LARGE', 'HEART IVORY TRELLIS SMALL', 'FIVE HEART HANGING DECORATION', 'ROUND SNACK BOXES SET OF4 WOODLAND', 'ROUND SNACK BOXES SET OF 4 FRUITS', 'SKULLS PARTY BAG + STICKER SET', 'HOME GARLAND PAINTED ZINC', 'AIRLINE BAG VINTAGE TOKYO 78', 'AIRLINE BAG VINTAGE WORLD CHAMPION', 'AIRLINE BAG VINTAGE JET SET RED', 'LUNCH BAG SPACEBOY DESIGN', 'LUNCH BAG PINK POLKADOT', 'JUMBO SHOPPER VINTAGE RED PAISLEY', 'TOOTHPASTE TUBE PEN', 'ENAMEL WASH BOWL CREAM', 'SAVOY ART DECO CLOCK', 'WOODEN UNION JACK BUNTING', 'CHILDS GARDEN SPADE BLUE', 'MAGIC DRAWING SLATE CIRCUS PARADE', 'MAGIC DRAWING SLATE SPACEBOY', 'MINI JIGSAW SPACEBOY', 'PICTURE DOMINOES', 'PLASTERS IN TIN CIRCUS PARADE', 'CLOTHES PEGS RETROSPOT PACK 24', 'SEASIDE FLYING DISC', 'TRADITIONAL MODELLING CLAY', 'PACK OF 6 HANDBAG GIFT BOXES']\n",
      "['RED HEARTS LIGHT CHAIN', 'S/4 VALENTINE DECOUPAGE HEART BOX', 'LARGE HEART MEASURING SPOONS', 'SMALL HEART MEASURING SPOONS', 'SET OF 9 HEART SHAPED BALLOONS', 'PINK HEART SHAPE EGG FRYING PAN', 'REGENCY CAKESTAND 3 TIER', 'SET OF 3 CAKE TINS PANTRY DESIGN', 'WHITE METAL LANTERN', 'ASSORTED BOTTLE TOP  MAGNETS', 'JAM MAKING SET WITH JARS', 'JUMBO STORAGE BAG SUKI', 'JUMBO BAG SCANDINAVIAN PAISLEY', 'WOODLAND CHARLOTTE BAG', 'LUNCH BAG SUKI  DESIGN', 'HIPPY CHIC DECORATIVE PARASOL', 'BOTTLE BAG RETROSPOT', 'CAKE PLATE LOVEBIRD WHITE', 'ENGLISH ROSE GARDEN SECATEURS']\n"
     ]
    }
   ],
   "source": [
    "for i in baskets1[:5]:\n",
    "    print(i)"
   ]
  },
  {
   "cell_type": "code",
   "execution_count": 65,
   "id": "410bfec1",
   "metadata": {},
   "outputs": [
    {
     "name": "stdout",
     "output_type": "stream",
     "text": [
      "['check']\n",
      "['SUNFLOWER DECORATIVE PARASOL']\n",
      "['SNACK TRAY I LOVE LONDON', 'SNACK TRAY HAPPY FOREST', 'VINTAGE DOILY JUMBO BAG RED', 'SET 10 CARD KRAFT REINDEER 17084', 'SET 6 CARDS SPARKLY REINDEER 17262', 'SET 10 CARDS DINKY TREE 17076', 'LUNCH BAG RED VINTAGE DOILY', 'PAISLEY PARK CARD', 'DOILY THANK YOU CARD', 'BLUE VICTORIAN FABRIC OVAL BOX', 'SET OF 3 BIRD LIGHT PINK FEATHER', 'VINTAGE BEAD PINK EVENING BAG', 'VINTAGE BEAD COSMETIC BAG', 'FOLKART STAR CHRISTMAS DECORATIONS', 'FOLKART CLIP ON STARS', 'FOLK ART METAL STAR T-LIGHT HOLDER', 'FUNKY MONKEY CUSHION COVER', 'WOVEN FROST CUSHION COVER', 'WOVEN ROSE GARDEN CUSHION COVER', 'SMALL POP BOX FUNKY MONKEY', 'HANGING PHOTO CLIP ROPE LADDER', 'RETRO LONGBOARD IRONING BOARD COVER', 'PARTY BUNTING', 'SCOTTIE DOGS BABY BIB', 'FEATHER PEN,HOT PINK', 'FEATHER PEN,LIGHT PINK', 'SET/6 PINK  BUTTERFLY T-LIGHTS', '4 IVORY DINNER CANDLES SILVER FLOCK', 'RETRO PLASTIC DAISY TRAY', 'CHILLI LIGHTS', 'WOOD 2 DRAWER CABINET WHITE FINISH', 'KITCHEN METAL SIGN', 'BATHROOM METAL SIGN', 'AREA PATROLLED METAL SIGN', 'N0 SINGING METAL SIGN', 'METAL SIGN,CUPCAKE SINGLE HOOK', 'METAL SIGN,CUPCAKE SINGLE HOOK', 'FRAPPUCINO SCARF KNITTING KIT', 'MIDNIGHT GLAMOUR SCARF KNITTING KIT', 'KNITTED UNION FLAG HOT WATER BOTTLE', 'ENGLISH ROSE HOT WATER BOTTLE']\n",
      "['RECIPE BOX PANTRY YELLOW DESIGN', 'WELCOME  WOODEN BLOCK LETTERS', 'BLACK TEA,COFFEE,SUGAR JARS', 'CREAM SWEETHEART LETTER RACK', 'RED RETROSPOT CAKE STAND', 'RED RETROSPOT MINI CASES', 'SET OF 3 COLOURED  FLYING DUCKS', 'SHOE SHINE BOX', 'BREAD BIN DINER STYLE MINT', 'BREAD BIN DINER STYLE PINK', 'RED RETROSPOT TRADITIONAL TEAPOT', 'RED RETROSPOT MUG']\n",
      "['GREEN REGENCY TEACUP AND SAUCER', 'PINK REGENCY TEACUP AND SAUCER', 'ENAMEL FLOWER JUG CREAM']\n"
     ]
    }
   ],
   "source": [
    "for i in baskets2[:5]:\n",
    "    print(i)"
   ]
  },
  {
   "cell_type": "code",
   "execution_count": 66,
   "id": "17b7a10f",
   "metadata": {},
   "outputs": [
    {
     "name": "stdout",
     "output_type": "stream",
     "text": [
      "['LUNCH BAG PAISLEY PARK', 'ASSORTED COLOUR BIRD ORNAMENT', 'KNITTED UNION FLAG HOT WATER BOTTLE', 'WHITE SKULL HOT WATER BOTTLE', 'LOVE HOT WATER BOTTLE', 'HOT WATER BOTTLE KEEP CALM', 'LUNCH BAG RED VINTAGE DOILY', 'LUNCH BAG VINTAGE DOILY', 'MINT GREEN ROSE TOWEL', 'RED RETROSPOT OVEN GLOVE DOUBLE', 'PACK OF 60 MUSHROOM CAKE CASES', 'RIBBON REEL STRIPES DESIGN', '12 PENCILS TALL TUBE WOODLAND', '72 SWEETHEART FAIRY CAKE CASES', 'SKULLS WRITING SET', 'SET 12 COLOURING PENCILS DOILY', '12 PENCILS TALL TUBE RED RETROSPOT', '6 RIBBONS RUSTIC CHARM', 'RED RETROSPOT OVEN GLOVE DOUBLE', 'WHITE HANGING HEART T-LIGHT HOLDER', 'SET OF 20 KIDS COOKIE CUTTERS', 'PINK PAISLEY SQUARE TISSUE BOX', 'RIBBON REEL STRIPES DESIGN', '72 SWEETHEART FAIRY CAKE CASES', 'RIBBON REEL STRIPES DESIGN', 'SET 12 COLOUR PENCILS LOVE LONDON', 'SET 36 COLOUR PENCILS LOVE LONDON', '12 PENCILS TALL TUBE SKULLS', '36 PENCILS TUBE SKULLS', 'SET 12 COLOURING PENCILS DOILY', 'SET OF 20 KIDS COOKIE CUTTERS', 'CINAMMON SET OF 9 T-LIGHTS', 'SET 12 COLOUR PENCILS LOVE LONDON', 'SET 36 COLOURING PENCILS DOILY', 'BAKING MOULD HEART WHITE CHOCOLATE', '3 PIECE SPACEBOY COOKIE CUTTER SET', 'STRAWBERRY RAFFIA FOOD COVER', 'RED FLOWER CROCHET FOOD COVER', 'STRAWBERRY RAFFIA FOOD COVER', 'PINK FLOWER CROCHET FOOD COVER', 'PACK OF 60 MUSHROOM CAKE CASES']\n",
      "['STRAWBERRY FAIRY CAKE TEAPOT', 'IVORY DINER WALL CLOCK', 'RED RETROSPOT TEA CUP AND SAUCER']\n",
      "['WHITE BAMBOO RIBS LAMPSHADE', 'BUNDLE OF 3 ALPHABET EXERCISE BOOKS']\n",
      "['ANTIQUE SILVER T-LIGHT GLASS', 'GIN AND TONIC MUG', 'RECIPE BOX PANTRY YELLOW DESIGN']\n",
      "['COFFEE MUG DOG + BALL DESIGN', 'DOG BOWL CHASING BALL DESIGN', 'ILLUSTRATED CAT BOWL', 'CHILDRENS CUTLERY POLKADOT BLUE', 'ENAMEL MEASURING JUG CREAM', 'CLEAR DRAWER KNOB ACRYLIC EDWARDIAN', 'HEART OF WICKER LARGE', 'HEART OF WICKER SMALL', 'VICTORIAN SEWING BOX MEDIUM', 'ASSORTED COLOUR BIRD ORNAMENT', 'WOOD BLACK BOARD ANT WHITE FINISH', 'CLASSIC FRENCH STYLE BASKET GREEN', 'CHILDRENS CUTLERY RETROSPOT RED', 'CHILDRENS CUTLERY POLKADOT BLUE', 'CHILDRENS CUTLERY POLKADOT GREEN', 'CHILDRENS CUTLERY POLKADOT PINK', 'NO SINGING METAL SIGN', 'AREA PATROLLED METAL SIGN', 'BEWARE OF THE CAT METAL SIGN', 'HAND OVER THE CHOCOLATE   SIGN', 'POTTERING IN THE SHED METAL SIGN', 'CHILDS GARDEN RAKE BLUE', 'CHILDS GARDEN SPADE BLUE', 'CREAM HEART CARD HOLDER', 'LARGE WHITE HEART OF WICKER', 'WHITE WICKER STAR', 'SMALL WHITE HEART OF WICKER', 'BLACK TEA TOWEL CLASSIC DESIGN', 'RED TEA TOWEL CLASSIC DESIGN']\n"
     ]
    }
   ],
   "source": [
    "for i in baskets11[:5]:\n",
    "    print(i)"
   ]
  },
  {
   "cell_type": "code",
   "execution_count": 67,
   "id": "2ab61e52",
   "metadata": {},
   "outputs": [],
   "source": [
    "association_rules1 = apriori(baskets1, min_support=0.01, min_confidence=0.2, \n",
    "                            min_lift=3, min_length=2)\n",
    "association_results1 = list(association_rules1)"
   ]
  },
  {
   "cell_type": "code",
   "execution_count": 68,
   "id": "6dbe469e",
   "metadata": {},
   "outputs": [],
   "source": [
    "association_rules2 = apriori(baskets2, min_support=0.01, min_confidence=0.2, \n",
    "                            min_lift=3, min_length=2)\n",
    "association_results2 = list(association_rules2)"
   ]
  },
  {
   "cell_type": "code",
   "execution_count": 69,
   "id": "6942a3cc",
   "metadata": {},
   "outputs": [],
   "source": [
    "association_rules11 = apriori(baskets11, min_support=0.01, min_confidence=0.2, \n",
    "                            min_lift=3, min_length=2)\n",
    "association_results11 = list(association_rules11)"
   ]
  },
  {
   "cell_type": "code",
   "execution_count": 70,
   "id": "739310fc",
   "metadata": {},
   "outputs": [
    {
     "name": "stdout",
     "output_type": "stream",
     "text": [
      "Rules generated:  151\n"
     ]
    }
   ],
   "source": [
    "print('Rules generated: ', len(association_results1))"
   ]
  },
  {
   "cell_type": "code",
   "execution_count": 71,
   "id": "ffc3b93e",
   "metadata": {},
   "outputs": [
    {
     "name": "stdout",
     "output_type": "stream",
     "text": [
      "Rules generated:  202\n"
     ]
    }
   ],
   "source": [
    "print('Rules generated: ', len(association_results2))"
   ]
  },
  {
   "cell_type": "code",
   "execution_count": 72,
   "id": "0a8943e6",
   "metadata": {},
   "outputs": [
    {
     "name": "stdout",
     "output_type": "stream",
     "text": [
      "Rules generated:  206\n"
     ]
    }
   ],
   "source": [
    "print('Rules generated: ', len(association_results11))"
   ]
  },
  {
   "cell_type": "code",
   "execution_count": 73,
   "id": "27eba917",
   "metadata": {},
   "outputs": [
    {
     "name": "stdout",
     "output_type": "stream",
     "text": [
      "RelationRecord(items=frozenset({'6 RIBBONS RUSTIC CHARM', 'SCOTTIE DOG HOT WATER BOTTLE'}), support=0.011089367253750815, ordered_statistics=[OrderedStatistic(items_base=frozenset({'6 RIBBONS RUSTIC CHARM'}), items_add=frozenset({'SCOTTIE DOG HOT WATER BOTTLE'}), confidence=0.265625, lift=7.143914473684211), OrderedStatistic(items_base=frozenset({'SCOTTIE DOG HOT WATER BOTTLE'}), items_add=frozenset({'6 RIBBONS RUSTIC CHARM'}), confidence=0.2982456140350877, lift=7.143914473684211)])\n"
     ]
    }
   ],
   "source": [
    "print(association_results1[0])"
   ]
  },
  {
   "cell_type": "code",
   "execution_count": 74,
   "id": "a3fa656d",
   "metadata": {},
   "outputs": [
    {
     "name": "stdout",
     "output_type": "stream",
     "text": [
      "RelationRecord(items=frozenset({'72 SWEETHEART FAIRY CAKE CASES', '60 TEATIME FAIRY CAKE CASES'}), support=0.013589128697042365, ordered_statistics=[OrderedStatistic(items_base=frozenset({'60 TEATIME FAIRY CAKE CASES'}), items_add=frozenset({'72 SWEETHEART FAIRY CAKE CASES'}), confidence=0.38636363636363635, lift=15.104403409090908), OrderedStatistic(items_base=frozenset({'72 SWEETHEART FAIRY CAKE CASES'}), items_add=frozenset({'60 TEATIME FAIRY CAKE CASES'}), confidence=0.53125, lift=15.10440340909091)])\n"
     ]
    }
   ],
   "source": [
    "print(association_results2[0])"
   ]
  },
  {
   "cell_type": "code",
   "execution_count": 75,
   "id": "f157d1e5",
   "metadata": {},
   "outputs": [
    {
     "name": "stdout",
     "output_type": "stream",
     "text": [
      "RelationRecord(items=frozenset({\"6 GIFT TAGS 50'S CHRISTMAS\", \"ROLL WRAP 50'S CHRISTMAS\"}), support=0.012436844150796735, ordered_statistics=[OrderedStatistic(items_base=frozenset({\"6 GIFT TAGS 50'S CHRISTMAS\"}), items_add=frozenset({\"ROLL WRAP 50'S CHRISTMAS\"}), confidence=0.5423728813559322, lift=20.828737667594233), OrderedStatistic(items_base=frozenset({\"ROLL WRAP 50'S CHRISTMAS\"}), items_add=frozenset({\"6 GIFT TAGS 50'S CHRISTMAS\"}), confidence=0.47761194029850745, lift=20.828737667594233)])\n"
     ]
    }
   ],
   "source": [
    "print(association_results11[0])"
   ]
  },
  {
   "cell_type": "code",
   "execution_count": 76,
   "id": "7e6e7364",
   "metadata": {},
   "outputs": [],
   "source": [
    "def display_rules(association_results1):\n",
    "    for item in association_results1:\n",
    "        pair = item[0] \n",
    "        items = [x for x in pair]\n",
    "        print(\"Rule: \" + items[0] + \" -> \" + items[1])\n",
    "        print(\"Support: \" + str(item[1]))\n",
    "        print(\"Confidence: \" + str(item[2][0][2]))\n",
    "        print(\"Lift: \" + str(item[2][0][3]))\n",
    "        print(\"=====================================\")"
   ]
  },
  {
   "cell_type": "code",
   "execution_count": 77,
   "id": "b260ddc6",
   "metadata": {},
   "outputs": [],
   "source": [
    "def display_rules(association_results2):\n",
    "    for item in association_results2:\n",
    "        pair = item[0] \n",
    "        items = [x for x in pair]\n",
    "        print(\"Rule: \" + items[0] + \" -> \" + items[1])\n",
    "        print(\"Support: \" + str(item[1]))\n",
    "        print(\"Confidence: \" + str(item[2][0][2]))\n",
    "        print(\"Lift: \" + str(item[2][0][3]))\n",
    "        print(\"=====================================\")"
   ]
  },
  {
   "cell_type": "code",
   "execution_count": 78,
   "id": "2230afaa",
   "metadata": {},
   "outputs": [],
   "source": [
    "def display_rules(association_results11):\n",
    "    for item in association_results11:\n",
    "        pair = item[0] \n",
    "        items = [x for x in pair]\n",
    "        print(\"Rule: \" + items[0] + \" -> \" + items[1])\n",
    "        print(\"Support: \" + str(item[1]))\n",
    "        print(\"Confidence: \" + str(item[2][0][2]))\n",
    "        print(\"Lift: \" + str(item[2][0][3]))\n",
    "        print(\"=====================================\")"
   ]
  },
  {
   "cell_type": "code",
   "execution_count": 79,
   "id": "41d5bb36",
   "metadata": {},
   "outputs": [
    {
     "name": "stdout",
     "output_type": "stream",
     "text": [
      "Rule: 6 RIBBONS RUSTIC CHARM -> SCOTTIE DOG HOT WATER BOTTLE\n",
      "Support: 0.011089367253750815\n",
      "Confidence: 0.265625\n",
      "Lift: 7.143914473684211\n",
      "=====================================\n",
      "Rule: ALARM CLOCK BAKELIKE PINK -> ALARM CLOCK BAKELIKE GREEN\n",
      "Support: 0.011741682974559686\n",
      "Confidence: 0.5454545454545454\n",
      "Lift: 25.33884297520661\n",
      "=====================================\n",
      "Rule: ALARM CLOCK BAKELIKE RED -> ALARM CLOCK BAKELIKE GREEN\n",
      "Support: 0.016307893020221786\n",
      "Confidence: 0.7575757575757576\n",
      "Lift: 34.157754010695186\n",
      "=====================================\n",
      "Rule: ALARM CLOCK BAKELIKE PINK -> ALARM CLOCK BAKELIKE RED\n",
      "Support: 0.011741682974559686\n",
      "Confidence: 0.5454545454545454\n",
      "Lift: 24.593582887700535\n",
      "=====================================\n",
      "Rule: BAKING SET SPACEBOY DESIGN -> BAKING SET 9 PIECE RETROSPOT\n",
      "Support: 0.011741682974559686\n",
      "Confidence: 0.45\n",
      "Lift: 25.55\n",
      "=====================================\n",
      "Rule: KITCHEN METAL SIGN -> BATHROOM METAL SIGN\n",
      "Support: 0.011089367253750815\n",
      "Confidence: 0.34\n",
      "Lift: 23.691818181818185\n",
      "=====================================\n",
      "Rule: TOILET METAL SIGN -> BATHROOM METAL SIGN\n",
      "Support: 0.014350945857795172\n",
      "Confidence: 0.44\n",
      "Lift: 23.259310344827586\n",
      "=====================================\n",
      "Rule: BLUE 3 PIECE POLKADOT CUTLERY SET -> PINK 3 PIECE POLKADOT CUTLERY SET\n",
      "Support: 0.015655577299412915\n",
      "Confidence: 0.7741935483870968\n",
      "Lift: 37.08870967741935\n",
      "=====================================\n",
      "Rule: BLUE 3 PIECE POLKADOT CUTLERY SET -> RED 3 PIECE RETROSPOT CUTLERY SET\n",
      "Support: 0.010437051532941943\n",
      "Confidence: 0.5161290322580645\n",
      "Lift: 29.304659498207887\n",
      "=====================================\n",
      "Rule: BLUE SPOT CERAMIC DRAWER KNOB -> RED STRIPE CERAMIC DRAWER KNOB\n",
      "Support: 0.010437051532941943\n",
      "Confidence: 0.5714285714285714\n",
      "Lift: 27.375\n",
      "=====================================\n"
     ]
    }
   ],
   "source": [
    "display_rules(association_results1[:10])"
   ]
  },
  {
   "cell_type": "code",
   "execution_count": 80,
   "id": "7f5ff458",
   "metadata": {},
   "outputs": [
    {
     "name": "stdout",
     "output_type": "stream",
     "text": [
      "Rule: 72 SWEETHEART FAIRY CAKE CASES -> 60 TEATIME FAIRY CAKE CASES\n",
      "Support: 0.013589128697042365\n",
      "Confidence: 0.38636363636363635\n",
      "Lift: 15.104403409090908\n",
      "=====================================\n",
      "Rule: 60 TEATIME FAIRY CAKE CASES -> PACK OF 60 PINK PAISLEY CAKE CASES\n",
      "Support: 0.011191047162270184\n",
      "Confidence: 0.3181818181818182\n",
      "Lift: 10.757985257985258\n",
      "=====================================\n",
      "Rule: 60 TEATIME FAIRY CAKE CASES -> PACK OF 72 RETROSPOT CAKE CASES\n",
      "Support: 0.011191047162270184\n",
      "Confidence: 0.3181818181818182\n",
      "Lift: 5.378992628992629\n",
      "=====================================\n",
      "Rule: ALARM CLOCK BAKELIKE CHOCOLATE -> ALARM CLOCK BAKELIKE GREEN\n",
      "Support: 0.014388489208633094\n",
      "Confidence: 0.6428571428571429\n",
      "Lift: 17.110942249240125\n",
      "=====================================\n",
      "Rule: ALARM CLOCK BAKELIKE CHOCOLATE -> ALARM CLOCK BAKELIKE IVORY\n",
      "Support: 0.010391686650679457\n",
      "Confidence: 0.4642857142857143\n",
      "Lift: 15.284774436090226\n",
      "=====================================\n",
      "Rule: ALARM CLOCK BAKELIKE CHOCOLATE -> ALARM CLOCK BAKELIKE PINK\n",
      "Support: 0.011191047162270184\n",
      "Confidence: 0.5\n",
      "Lift: 17.375\n",
      "=====================================\n",
      "Rule: ALARM CLOCK BAKELIKE CHOCOLATE -> ALARM CLOCK BAKELIKE RED\n",
      "Support: 0.017585931254996003\n",
      "Confidence: 0.7857142857142857\n",
      "Lift: 14.892857142857142\n",
      "=====================================\n",
      "Rule: ALARM CLOCK BAKELIKE IVORY -> ALARM CLOCK BAKELIKE GREEN\n",
      "Support: 0.014388489208633094\n",
      "Confidence: 0.3829787234042554\n",
      "Lift: 12.608062709966406\n",
      "=====================================\n",
      "Rule: ALARM CLOCK BAKELIKE GREEN -> ALARM CLOCK BAKELIKE ORANGE\n",
      "Support: 0.011191047162270184\n",
      "Confidence: 0.29787234042553196\n",
      "Lift: 14.90553191489362\n",
      "=====================================\n",
      "Rule: ALARM CLOCK BAKELIKE PINK -> ALARM CLOCK BAKELIKE GREEN\n",
      "Support: 0.012789768185451638\n",
      "Confidence: 0.3404255319148936\n",
      "Lift: 11.829787234042552\n",
      "=====================================\n"
     ]
    }
   ],
   "source": [
    "display_rules(association_results2[:10])"
   ]
  },
  {
   "cell_type": "code",
   "execution_count": 81,
   "id": "af2c4dc4",
   "metadata": {},
   "outputs": [
    {
     "name": "stdout",
     "output_type": "stream",
     "text": [
      "Rule: 6 GIFT TAGS 50'S CHRISTMAS -> ROLL WRAP 50'S CHRISTMAS\n",
      "Support: 0.012436844150796735\n",
      "Confidence: 0.5423728813559322\n",
      "Lift: 20.828737667594233\n",
      "=====================================\n",
      "Rule: PAPER CHAIN KIT VINTAGE CHRISTMAS -> 60 CAKE CASES VINTAGE CHRISTMAS\n",
      "Support: 0.013214146910221531\n",
      "Confidence: 0.33333333333333337\n",
      "Lift: 7.657738095238097\n",
      "=====================================\n",
      "Rule: SET OF 20 VINTAGE CHRISTMAS NAPKINS -> 60 CAKE CASES VINTAGE CHRISTMAS\n",
      "Support: 0.011270890011659542\n",
      "Confidence: 0.2843137254901961\n",
      "Lift: 9.625515995872034\n",
      "=====================================\n",
      "Rule: 72 SWEETHEART FAIRY CAKE CASES -> 60 TEATIME FAIRY CAKE CASES\n",
      "Support: 0.010493587252234746\n",
      "Confidence: 0.38028169014084506\n",
      "Lift: 17.790268886043535\n",
      "=====================================\n",
      "Rule: ALARM CLOCK BAKELIKE IVORY -> ALARM CLOCK BAKELIKE GREEN\n",
      "Support: 0.012436844150796735\n",
      "Confidence: 0.36781609195402293\n",
      "Lift: 15.77318007662835\n",
      "=====================================\n",
      "Rule: ALARM CLOCK BAKELIKE PINK -> ALARM CLOCK BAKELIKE GREEN\n",
      "Support: 0.012048192771084338\n",
      "Confidence: 0.3563218390804598\n",
      "Lift: 13.891152908394288\n",
      "=====================================\n",
      "Rule: ALARM CLOCK BAKELIKE RED -> ALARM CLOCK BAKELIKE GREEN\n",
      "Support: 0.020209871745044693\n",
      "Confidence: 0.5977011494252873\n",
      "Lift: 19.466899461661573\n",
      "=====================================\n",
      "Rule: ALARM CLOCK BAKELIKE IVORY -> ALARM CLOCK BAKELIKE PINK\n",
      "Support: 0.012048192771084338\n",
      "Confidence: 0.5166666666666667\n",
      "Lift: 20.142171717171717\n",
      "=====================================\n",
      "Rule: ALARM CLOCK BAKELIKE IVORY -> ALARM CLOCK BAKELIKE RED\n",
      "Support: 0.011659541391371939\n",
      "Confidence: 0.5\n",
      "Lift: 16.28481012658228\n",
      "=====================================\n",
      "Rule: ALARM CLOCK BAKELIKE PINK -> ALARM CLOCK BAKELIKE RED\n",
      "Support: 0.014768752429071124\n",
      "Confidence: 0.5757575757575757\n",
      "Lift: 18.752205600306866\n",
      "=====================================\n"
     ]
    }
   ],
   "source": [
    "display_rules(association_results11[:10])"
   ]
  },
  {
   "cell_type": "code",
   "execution_count": 82,
   "id": "0fd285ca",
   "metadata": {},
   "outputs": [
    {
     "data": {
      "text/plain": [
       "[('WHITE HANGING HEART T-LIGHT HOLDER', 133),\n",
       " ('REGENCY CAKESTAND 3 TIER', 121),\n",
       " ('SET OF 3 CAKE TINS PANTRY DESIGN', 98),\n",
       " ('JUMBO BAG RED RETROSPOT', 95),\n",
       " ('HEART OF WICKER SMALL', 92),\n",
       " ('NATURAL SLATE HEART CHALKBOARD', 85),\n",
       " ('JAM MAKING SET WITH JARS', 74),\n",
       " ('LUNCH BAG RED RETROSPOT', 74),\n",
       " ('HEART OF WICKER LARGE', 73),\n",
       " ('LUNCH BAG  BLACK SKULL', 73)]"
      ]
     },
     "execution_count": 82,
     "metadata": {},
     "output_type": "execute_result"
    }
   ],
   "source": [
    "from collections import Counter\n",
    " \n",
    "counter = Counter(baskets1[0])\n",
    "for i in baskets1[1:]:\n",
    "    if i != 'nan':\n",
    "        counter.update(i)\n",
    " \n",
    "del counter['nan']\n",
    "counter.most_common(10)\n"
   ]
  },
  {
   "cell_type": "code",
   "execution_count": 83,
   "id": "67be789b",
   "metadata": {
    "scrolled": true
   },
   "outputs": [
    {
     "data": {
      "text/plain": [
       "[('SET OF 3 CAKE TINS PANTRY DESIGN', 99),\n",
       " ('WHITE HANGING HEART T-LIGHT HOLDER', 81),\n",
       " ('REGENCY CAKESTAND 3 TIER', 79),\n",
       " ('JUMBO BAG RED RETROSPOT', 78),\n",
       " ('PACK OF 72 RETROSPOT CAKE CASES', 76),\n",
       " ('LUNCH BAG RED RETROSPOT', 74),\n",
       " ('HEART OF WICKER SMALL', 69),\n",
       " ('JAM MAKING SET PRINTED', 67),\n",
       " ('ALARM CLOCK BAKELIKE RED', 66),\n",
       " ('JAM MAKING SET WITH JARS', 63)]"
      ]
     },
     "execution_count": 83,
     "metadata": {},
     "output_type": "execute_result"
    }
   ],
   "source": [
    "from collections import Counter\n",
    " \n",
    "counter = Counter(baskets2[0])\n",
    "for i in baskets2[1:]:\n",
    "    if i != 'nan':\n",
    "        counter.update(i)\n",
    " \n",
    "del counter['nan']\n",
    "counter.most_common(10)\n"
   ]
  },
  {
   "cell_type": "code",
   "execution_count": 84,
   "id": "4dfc8118",
   "metadata": {},
   "outputs": [
    {
     "data": {
      "text/plain": [
       "[('RABBIT NIGHT LIGHT', 229),\n",
       " (\"PAPER CHAIN KIT 50'S CHRISTMAS\", 182),\n",
       " ('WHITE HANGING HEART T-LIGHT HOLDER', 174),\n",
       " ('REGENCY CAKESTAND 3 TIER', 157),\n",
       " ('HOT WATER BOTTLE KEEP CALM', 153),\n",
       " ('JUMBO BAG RED RETROSPOT', 133),\n",
       " ('LUNCH BAG RED RETROSPOT', 132),\n",
       " ('LUNCH BAG  BLACK SKULL', 127),\n",
       " ('GARDENERS KNEELING PAD KEEP CALM', 123),\n",
       " ('HAND WARMER OWL DESIGN', 123)]"
      ]
     },
     "execution_count": 84,
     "metadata": {},
     "output_type": "execute_result"
    }
   ],
   "source": [
    "from collections import Counter\n",
    " \n",
    "counter = Counter(baskets11[0])\n",
    "for i in baskets11[1:]:\n",
    "    if i != 'nan':\n",
    "        counter.update(i)\n",
    " \n",
    "del counter['nan']\n",
    "counter.most_common(10)\n"
   ]
  },
  {
   "cell_type": "markdown",
   "id": "1cf1fd73",
   "metadata": {},
   "source": [
    "Observation.\n",
    "\n",
    "From the above analysis, the shop had more sales in September, October, and November. December and February had minor sales. This can be because the month has a lesser number of days for February. Also, people in the community have exhausted funds during the festive season and purchasing back-to-school items for the children in January. These two things may have extensively depicted the finances, focusing more on savings. For December, the decrease in sales may be due to offices closing for the Xmas celebration and families going for a vacation to other locations. The rest of the months had a fair amount of sales. I would advise the shop owner to employ more hands and even run more promotions between august to November to make more sales.\n",
    "\n",
    "Secondly, we can analyze the contents of the basket. For January, we see more school items for kids, and for February, the store sold more items relating to love, like cakes candles. In contrast, we had more winter-related items like cold water bottles and entities focused on preparation for Christmas and Thanksgiving celebrations like cake packs in November. Also, just as stated in the sales, September to November had more things in the basket, and February/December had the least.\n",
    "\n",
    "Comparing the rules generated in January, February, and November, we can see that even if February had fewer sales, items were frequently bought together hence the high number of rules generated. We can see ALARM CLOCK BAKE LIKE RED -> ALARM CLOCK BAKE LIKE PINK was purchased all month with a lift of 24. This shows this is a popular product in the store, and running promotions around this product will significantly increase sales for the store.\n",
    "\n",
    "Lastly, from the most common items, we see only one item in February also appeared in rules ( Alarm clock Bskeline red), stating that not all \"most common\" items are bought in pairs.\n",
    "\n",
    "The rules generated for all months are generally good, but using the visualization method to remove redundant/repetitive rules is strongly advised.\n",
    "\n",
    "\n",
    "\n",
    "\n",
    " "
   ]
  }
 ],
 "metadata": {
  "kernelspec": {
   "display_name": "Python 3 (ipykernel)",
   "language": "python",
   "name": "python3"
  },
  "language_info": {
   "codemirror_mode": {
    "name": "ipython",
    "version": 3
   },
   "file_extension": ".py",
   "mimetype": "text/x-python",
   "name": "python",
   "nbconvert_exporter": "python",
   "pygments_lexer": "ipython3",
   "version": "3.9.7"
  }
 },
 "nbformat": 4,
 "nbformat_minor": 5
}
